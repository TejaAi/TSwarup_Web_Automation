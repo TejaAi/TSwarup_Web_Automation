{
 "cells": [
  {
   "cell_type": "code",
   "execution_count": 1,
   "id": "c1e2fc4d",
   "metadata": {},
   "outputs": [],
   "source": [
    "import os\n",
    "import time\n",
    "import selenium\n",
    "import warnings\n",
    "warnings.filterwarnings('ignore')\n",
    "import pandas as pd\n",
    "from selenium import webdriver\n",
    "from selenium.webdriver.support.ui import WebDriverWait\n",
    "from selenium.webdriver.common.by import By\n",
    "import time"
   ]
  },
  {
   "cell_type": "code",
   "execution_count": 2,
   "id": "6ed030a2",
   "metadata": {},
   "outputs": [],
   "source": [
    "chromeOptions = webdriver.ChromeOptions()\n",
    "prefs = {\"plugins.always_open_pdf_externally\":True,\"download.default_directory\":r\"C:\\Users\\tswar\\Testing_UI\\PDf_Files\"}\n",
    "chromeOptions.add_experimental_option(\"prefs\",prefs)\n",
    "# chromeOptions.headless = True\n",
    "chromeOptions.add_argument(\"--disable-notifications\")\n",
    "chromedriver = \"C:\\Program Files (x86)\\Google\\Chrome\\Application\\chromedriver.exe\"\n",
    "browser = webdriver.Chrome(executable_path=chromedriver, chrome_options=chromeOptions)\n",
    "browser.get(\"https://www.onlinejyotish.com/horo/\")\n",
    "browser.maximize_window()\n",
    "A1 = \"Aler\"\n",
    "A2 = \"F\"\n",
    "A3 = 19\n",
    "A4 = \"March\"\n",
    "A5 = 2000\n",
    "A6 = \"09(7 AM)\"\n",
    "A7 = 20\n",
    "A8 = \"American Samoa\"\n",
    "A9 =\"Anasosopo\"\n",
    "A10 =\"thejaswaroop1996@gmail.com\"\n",
    "Name = browser.find_element(By.ID,'name')\n",
    "Name.send_keys(A1)\n",
    "Sex = browser.find_element(By.ID,'sex')\n",
    "Sex.send_keys(A2)\n",
    "Day = browser.find_element(By.ID,'day')\n",
    "Day.send_keys(A3)\n",
    "Month = browser.find_element(By.ID,'month')\n",
    "Month.send_keys(A4)\n",
    "Year = browser.find_element(By.ID,'year')\n",
    "Year.clear()\n",
    "Year.send_keys(A5)\n",
    "Hour = browser.find_element(By.ID,'hour')\n",
    "Hour.send_keys(A6)\n",
    "Minute = browser.find_element(By.ID,'minute')\n",
    "Minute.send_keys(A7)\n",
    "Country = browser.find_element(By.ID,'country')\n",
    "Country.send_keys(A8)\n",
    "City = browser.find_element(By.ID,'city')\n",
    "City.clear()\n",
    "City.send_keys(A9)\n",
    "ci=browser.find_elements(By.ID,'livesearch')\n",
    "time.sleep(2)\n",
    "ci[0].click()\n",
    "time.sleep(5)\n",
    "Sub = browser.find_element(By.XPATH,\"/html/body/div[2]/div/div/div/div[1]/form/div/div/table/tbody/tr[15]/td/input[4]\")\n",
    "Sub.click()\n",
    "time.sleep(5)\n",
    "Pd = browser.find_element(By.ID,'btn')\n",
    "Pd.click()\n",
    "time.sleep(10)\n",
    "PDF = browser.find_element(By.XPATH,'/html/body/div[2]/div/div/div[1]/a[1]')\n",
    "PDF.click()"
   ]
  },
  {
   "cell_type": "code",
   "execution_count": null,
   "id": "d49538be",
   "metadata": {},
   "outputs": [],
   "source": []
  }
 ],
 "metadata": {
  "kernelspec": {
   "display_name": "Python 3 (ipykernel)",
   "language": "python",
   "name": "python3"
  },
  "language_info": {
   "codemirror_mode": {
    "name": "ipython",
    "version": 3
   },
   "file_extension": ".py",
   "mimetype": "text/x-python",
   "name": "python",
   "nbconvert_exporter": "python",
   "pygments_lexer": "ipython3",
   "version": "3.9.12"
  }
 },
 "nbformat": 4,
 "nbformat_minor": 5
}
