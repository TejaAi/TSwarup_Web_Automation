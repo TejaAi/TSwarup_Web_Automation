{
 "cells": [
  {
   "cell_type": "code",
   "execution_count": 1,
   "id": "2f9c9451",
   "metadata": {},
   "outputs": [],
   "source": [
    "import os\n",
    "import time\n",
    "import selenium\n",
    "import warnings\n",
    "warnings.filterwarnings('ignore')"
   ]
  },
  {
   "cell_type": "code",
   "execution_count": 2,
   "id": "f85e470b",
   "metadata": {},
   "outputs": [],
   "source": [
    "from selenium import webdriver"
   ]
  },
  {
   "cell_type": "code",
   "execution_count": 3,
   "id": "e9972968",
   "metadata": {},
   "outputs": [],
   "source": [
    "from selenium.webdriver.support.ui import WebDriverWait       "
   ]
  },
  {
   "cell_type": "code",
   "execution_count": 4,
   "id": "f9a74f43",
   "metadata": {},
   "outputs": [],
   "source": [
    "from selenium.webdriver.common.by import By"
   ]
  },
  {
   "cell_type": "code",
   "execution_count": 5,
   "id": "d5f8e7bc",
   "metadata": {},
   "outputs": [],
   "source": [
    "chromeOptions = webdriver.ChromeOptions()\n",
    "prefs = {\"plugins.always_open_pdf_externally\":True}\n",
    "chromeOptions.add_experimental_option(\"prefs\",prefs)\n",
    "# chromeOptions.headless = True\n",
    "chromeOptions.add_argument(\"--disable-notifications\")\n",
    "chromedriver = \"C:\\Program Files (x86)\\Google\\Chrome\\Application\\chromedriver.exe\"\n",
    "browser = webdriver.Chrome(executable_path=chromedriver, chrome_options=chromeOptions)\n",
    "browser.maximize_window()"
   ]
  },
  {
   "cell_type": "code",
   "execution_count": 6,
   "id": "b73ed99f",
   "metadata": {},
   "outputs": [],
   "source": [
    "browser.get(\"https://www.onlinejyotish.com/horo/\")"
   ]
  },
  {
   "cell_type": "code",
   "execution_count": 7,
   "id": "afc8b124",
   "metadata": {},
   "outputs": [],
   "source": [
    "A1 = \"Aler\"\n",
    "A2 = \"F\"\n",
    "A3 = 19\n",
    "A4 = \"March\"\n",
    "A5 = 2000\n",
    "A6 = 6\n",
    "A7 = \"09(7 AM)\"\n",
    "A8 = 20\n",
    "A9 = \"American Samoa\"\n",
    "A10 =\"Anasosopo\"\n",
    "A11 =\"thejaswaroop1996@gmail.com\""
   ]
  },
  {
   "cell_type": "code",
   "execution_count": 8,
   "id": "3e0ac63e",
   "metadata": {},
   "outputs": [],
   "source": [
    "Name = browser.find_element(By.ID,'name')"
   ]
  },
  {
   "cell_type": "code",
   "execution_count": 9,
   "id": "b7719bfb",
   "metadata": {},
   "outputs": [],
   "source": [
    "Name.send_keys(A1)"
   ]
  },
  {
   "cell_type": "code",
   "execution_count": 10,
   "id": "7c6178dd",
   "metadata": {},
   "outputs": [],
   "source": [
    "Sex = browser.find_element(By.ID,'sex')"
   ]
  },
  {
   "cell_type": "code",
   "execution_count": 11,
   "id": "fc6d59f7",
   "metadata": {},
   "outputs": [],
   "source": [
    "Sex.send_keys(A2)"
   ]
  },
  {
   "cell_type": "code",
   "execution_count": 12,
   "id": "44628bc6",
   "metadata": {},
   "outputs": [],
   "source": [
    "Day = browser.find_element(By.ID,'day')"
   ]
  },
  {
   "cell_type": "code",
   "execution_count": 13,
   "id": "4a68911a",
   "metadata": {},
   "outputs": [],
   "source": [
    "Day.send_keys(A3)"
   ]
  },
  {
   "cell_type": "code",
   "execution_count": 14,
   "id": "cf4faceb",
   "metadata": {},
   "outputs": [],
   "source": [
    "Month = browser.find_element(By.ID,'month')"
   ]
  },
  {
   "cell_type": "code",
   "execution_count": 15,
   "id": "cb4115d9",
   "metadata": {},
   "outputs": [],
   "source": [
    "Month.send_keys(A4)"
   ]
  },
  {
   "cell_type": "code",
   "execution_count": 16,
   "id": "fa784f77",
   "metadata": {},
   "outputs": [],
   "source": [
    "Year = browser.find_element(By.ID,'year')"
   ]
  },
  {
   "cell_type": "code",
   "execution_count": 17,
   "id": "2fbfe622",
   "metadata": {},
   "outputs": [],
   "source": [
    "Year.clear()"
   ]
  },
  {
   "cell_type": "code",
   "execution_count": 18,
   "id": "56aa4441",
   "metadata": {},
   "outputs": [],
   "source": [
    "Year.send_keys(A5)"
   ]
  },
  {
   "cell_type": "code",
   "execution_count": 19,
   "id": "dedee391",
   "metadata": {},
   "outputs": [],
   "source": [
    "Hour = browser.find_element(By.ID,'hour')"
   ]
  },
  {
   "cell_type": "code",
   "execution_count": 20,
   "id": "a1b57f18",
   "metadata": {},
   "outputs": [],
   "source": [
    "Hour.send_keys(A7)"
   ]
  },
  {
   "cell_type": "code",
   "execution_count": 21,
   "id": "6a8ea3a8",
   "metadata": {},
   "outputs": [],
   "source": [
    "Minute = browser.find_element(By.ID,'minute')"
   ]
  },
  {
   "cell_type": "code",
   "execution_count": 22,
   "id": "a7ca433e",
   "metadata": {},
   "outputs": [],
   "source": [
    "Minute.send_keys(A8)"
   ]
  },
  {
   "cell_type": "code",
   "execution_count": 23,
   "id": "a502adf0",
   "metadata": {},
   "outputs": [],
   "source": [
    "Country = browser.find_element(By.ID,'country')"
   ]
  },
  {
   "cell_type": "code",
   "execution_count": 24,
   "id": "96160110",
   "metadata": {},
   "outputs": [],
   "source": [
    "Country.send_keys(A9)"
   ]
  },
  {
   "cell_type": "code",
   "execution_count": 25,
   "id": "596b2de2",
   "metadata": {},
   "outputs": [],
   "source": [
    "City = browser.find_element(By.ID,'city')"
   ]
  },
  {
   "cell_type": "code",
   "execution_count": 26,
   "id": "b6a47a36",
   "metadata": {},
   "outputs": [],
   "source": [
    "City.clear()"
   ]
  },
  {
   "cell_type": "code",
   "execution_count": 27,
   "id": "070b6e65",
   "metadata": {},
   "outputs": [],
   "source": [
    "City.send_keys(A10)"
   ]
  },
  {
   "cell_type": "code",
   "execution_count": 28,
   "id": "a08afd6e",
   "metadata": {},
   "outputs": [],
   "source": [
    "ci=browser.find_elements(By.ID,'livesearch')"
   ]
  },
  {
   "cell_type": "code",
   "execution_count": 29,
   "id": "a9dd8e85",
   "metadata": {},
   "outputs": [],
   "source": [
    "time.sleep(10)"
   ]
  },
  {
   "cell_type": "code",
   "execution_count": 30,
   "id": "ffe05758",
   "metadata": {},
   "outputs": [],
   "source": [
    "ci[0].click()"
   ]
  },
  {
   "cell_type": "code",
   "execution_count": 31,
   "id": "088b03f3",
   "metadata": {},
   "outputs": [],
   "source": [
    "time.sleep(10)"
   ]
  },
  {
   "cell_type": "code",
   "execution_count": 32,
   "id": "93fe456d",
   "metadata": {},
   "outputs": [],
   "source": [
    "Sub = browser.find_element(By.XPATH,\"/html/body/div[2]/div/div/div/div[1]/form/div/div/table/tbody/tr[15]/td/input[4]\")"
   ]
  },
  {
   "cell_type": "code",
   "execution_count": 33,
   "id": "9b7e9ade",
   "metadata": {},
   "outputs": [],
   "source": [
    "time.sleep(5)"
   ]
  },
  {
   "cell_type": "code",
   "execution_count": 34,
   "id": "57fd916f",
   "metadata": {},
   "outputs": [],
   "source": [
    "Sub.click()"
   ]
  },
  {
   "cell_type": "code",
   "execution_count": 35,
   "id": "c0605040",
   "metadata": {},
   "outputs": [],
   "source": [
    "Pd = browser.find_element(By.ID,'btn')"
   ]
  },
  {
   "cell_type": "code",
   "execution_count": 36,
   "id": "0ec7e109",
   "metadata": {},
   "outputs": [],
   "source": [
    "Pd.click()"
   ]
  },
  {
   "cell_type": "code",
   "execution_count": 37,
   "id": "9368b21f",
   "metadata": {},
   "outputs": [],
   "source": [
    "PDF = browser.find_element(By.XPATH,'/html/body/div[2]/div/div/div[1]/a[1]')"
   ]
  },
  {
   "cell_type": "code",
   "execution_count": 38,
   "id": "5d60efc8",
   "metadata": {},
   "outputs": [],
   "source": [
    "PDF.click()"
   ]
  },
  {
   "cell_type": "code",
   "execution_count": 39,
   "id": "4f05be5d",
   "metadata": {},
   "outputs": [],
   "source": [
    "time.sleep(10)"
   ]
  },
  {
   "cell_type": "code",
   "execution_count": 40,
   "id": "8760d355",
   "metadata": {},
   "outputs": [],
   "source": [
    "try:\n",
    "    x=browser.find_element(By.XPATH,'/html/ins')\n",
    "    X1=x.find_element(By.ID,'aswift_6_host')\n",
    "    browser.switch_to.frame('aswift_6')\n",
    "    X2=browser.find_element(By.ID,'ad_iframe')\n",
    "    browser.switch_to.frame(X2)\n",
    "    browser.find_element(By.XPATH,'//*[@id=\"dismiss-button\"]').click()\n",
    "except:\n",
    "    pass\n",
    "    "
   ]
  },
  {
   "cell_type": "code",
   "execution_count": null,
   "id": "1cabed1f",
   "metadata": {},
   "outputs": [],
   "source": []
  },
  {
   "cell_type": "code",
   "execution_count": null,
   "id": "6316b1a8",
   "metadata": {},
   "outputs": [],
   "source": []
  },
  {
   "cell_type": "code",
   "execution_count": null,
   "id": "31c9f1a5",
   "metadata": {},
   "outputs": [],
   "source": []
  },
  {
   "cell_type": "code",
   "execution_count": null,
   "id": "5b412a1f",
   "metadata": {},
   "outputs": [],
   "source": []
  },
  {
   "cell_type": "code",
   "execution_count": null,
   "id": "0cd801b4",
   "metadata": {},
   "outputs": [],
   "source": []
  },
  {
   "cell_type": "code",
   "execution_count": null,
   "id": "2c2ecb33",
   "metadata": {},
   "outputs": [],
   "source": []
  },
  {
   "cell_type": "code",
   "execution_count": null,
   "id": "ddb6e14d",
   "metadata": {},
   "outputs": [],
   "source": []
  },
  {
   "cell_type": "code",
   "execution_count": null,
   "id": "6ffb036e",
   "metadata": {},
   "outputs": [],
   "source": []
  },
  {
   "cell_type": "code",
   "execution_count": null,
   "id": "68d3bab2",
   "metadata": {},
   "outputs": [],
   "source": []
  },
  {
   "cell_type": "code",
   "execution_count": null,
   "id": "0595154a",
   "metadata": {},
   "outputs": [],
   "source": []
  },
  {
   "cell_type": "code",
   "execution_count": null,
   "id": "e5cdad36",
   "metadata": {},
   "outputs": [],
   "source": []
  },
  {
   "cell_type": "code",
   "execution_count": null,
   "id": "1692a268",
   "metadata": {},
   "outputs": [],
   "source": []
  },
  {
   "cell_type": "code",
   "execution_count": null,
   "id": "4cbbae9e",
   "metadata": {},
   "outputs": [],
   "source": []
  },
  {
   "cell_type": "code",
   "execution_count": null,
   "id": "70bc96be",
   "metadata": {},
   "outputs": [],
   "source": []
  },
  {
   "cell_type": "code",
   "execution_count": null,
   "id": "1d98646d",
   "metadata": {},
   "outputs": [],
   "source": []
  },
  {
   "cell_type": "code",
   "execution_count": null,
   "id": "de0cf046",
   "metadata": {},
   "outputs": [],
   "source": []
  },
  {
   "cell_type": "code",
   "execution_count": null,
   "id": "063bcd3d",
   "metadata": {},
   "outputs": [],
   "source": []
  },
  {
   "cell_type": "code",
   "execution_count": null,
   "id": "be84e39b",
   "metadata": {},
   "outputs": [],
   "source": []
  },
  {
   "cell_type": "code",
   "execution_count": null,
   "id": "e8265b30",
   "metadata": {},
   "outputs": [],
   "source": []
  }
 ],
 "metadata": {
  "kernelspec": {
   "display_name": "Python 3 (ipykernel)",
   "language": "python",
   "name": "python3"
  },
  "language_info": {
   "codemirror_mode": {
    "name": "ipython",
    "version": 3
   },
   "file_extension": ".py",
   "mimetype": "text/x-python",
   "name": "python",
   "nbconvert_exporter": "python",
   "pygments_lexer": "ipython3",
   "version": "3.9.12"
  }
 },
 "nbformat": 4,
 "nbformat_minor": 5
}
