{
 "cells": [
  {
   "cell_type": "code",
   "execution_count": 1,
   "id": "ddc608e8",
   "metadata": {},
   "outputs": [],
   "source": [
    "import os\n",
    "import time\n",
    "import selenium\n",
    "import warnings\n",
    "warnings.filterwarnings('ignore')\n",
    "import pandas as pd\n",
    "from selenium import webdriver\n",
    "from selenium.webdriver.support.ui import WebDriverWait\n",
    "from selenium.webdriver.common.by import By\n",
    "import time"
   ]
  },
  {
   "cell_type": "code",
   "execution_count": 2,
   "id": "311bb8f4",
   "metadata": {},
   "outputs": [
    {
     "name": "stdout",
     "output_type": "stream",
     "text": [
      "Please Enter PathC:\\Users\\tswar\\Web_Automa\n",
      "Please Enter File Nameinput.csv\n"
     ]
    }
   ],
   "source": [
    "x = input(\"Please Enter Path\")\n",
    "y = input(\"Please Enter File Name\")\n",
    "xy = x+\"/\"+y\n",
    "df  = pd.read_csv(xy)"
   ]
  },
  {
   "cell_type": "code",
   "execution_count": 3,
   "id": "49d65d89",
   "metadata": {},
   "outputs": [
    {
     "data": {
      "text/html": [
       "<div>\n",
       "<style scoped>\n",
       "    .dataframe tbody tr th:only-of-type {\n",
       "        vertical-align: middle;\n",
       "    }\n",
       "\n",
       "    .dataframe tbody tr th {\n",
       "        vertical-align: top;\n",
       "    }\n",
       "\n",
       "    .dataframe thead th {\n",
       "        text-align: right;\n",
       "    }\n",
       "</style>\n",
       "<table border=\"1\" class=\"dataframe\">\n",
       "  <thead>\n",
       "    <tr style=\"text-align: right;\">\n",
       "      <th></th>\n",
       "      <th>Name</th>\n",
       "      <th>Gender</th>\n",
       "      <th>Date</th>\n",
       "      <th>Month</th>\n",
       "      <th>Year</th>\n",
       "      <th>Hour</th>\n",
       "      <th>Minute</th>\n",
       "      <th>Country</th>\n",
       "      <th>City</th>\n",
       "    </tr>\n",
       "  </thead>\n",
       "  <tbody>\n",
       "    <tr>\n",
       "      <th>0</th>\n",
       "      <td>Teja</td>\n",
       "      <td>M</td>\n",
       "      <td>9</td>\n",
       "      <td>December</td>\n",
       "      <td>1996</td>\n",
       "      <td>09(7 AM)</td>\n",
       "      <td>30</td>\n",
       "      <td>India</td>\n",
       "      <td>Cuddapah, Cuddapah, Andhra Pradesh</td>\n",
       "    </tr>\n",
       "    <tr>\n",
       "      <th>1</th>\n",
       "      <td>Taylor</td>\n",
       "      <td>F</td>\n",
       "      <td>13</td>\n",
       "      <td>December</td>\n",
       "      <td>1989</td>\n",
       "      <td>06(10 AM)</td>\n",
       "      <td>10</td>\n",
       "      <td>Austria</td>\n",
       "      <td>Hypolz, Politischer Bezirk Zwettl, Lower Austria</td>\n",
       "    </tr>\n",
       "    <tr>\n",
       "      <th>2</th>\n",
       "      <td>Alex</td>\n",
       "      <td>M</td>\n",
       "      <td>1</td>\n",
       "      <td>January</td>\n",
       "      <td>2000</td>\n",
       "      <td>18(06 PM)</td>\n",
       "      <td>11</td>\n",
       "      <td>Bhutan</td>\n",
       "      <td>Chapchha, , Chukha</td>\n",
       "    </tr>\n",
       "  </tbody>\n",
       "</table>\n",
       "</div>"
      ],
      "text/plain": [
       "     Name Gender  Date     Month  Year       Hour  Minute  Country  \\\n",
       "0    Teja      M     9  December  1996   09(7 AM)      30    India   \n",
       "1  Taylor      F    13  December  1989  06(10 AM)      10  Austria   \n",
       "2    Alex      M     1   January  2000  18(06 PM)      11   Bhutan   \n",
       "\n",
       "                                               City  \n",
       "0                Cuddapah, Cuddapah, Andhra Pradesh  \n",
       "1  Hypolz, Politischer Bezirk Zwettl, Lower Austria  \n",
       "2                                Chapchha, , Chukha  "
      ]
     },
     "execution_count": 3,
     "metadata": {},
     "output_type": "execute_result"
    }
   ],
   "source": [
    "df"
   ]
  },
  {
   "cell_type": "code",
   "execution_count": 4,
   "id": "47461fa1",
   "metadata": {},
   "outputs": [],
   "source": [
    "def dataframe(record1):\n",
    "    chromeOptions = webdriver.ChromeOptions()\n",
    "    prefs = {\"plugins.always_open_pdf_externally\":True,\"download.default_directory\":r\"C:\\Users\\tswar\\Testing_UI\\PDf_Files\"}\n",
    "    chromeOptions.add_experimental_option(\"prefs\",prefs)\n",
    "    # chromeOptions.headless = True\n",
    "    chromeOptions.add_argument(\"--disable-notifications\")\n",
    "    chromedriver = \"C:\\Program Files (x86)\\Google\\Chrome\\Application\\chromedriver.exe\"\n",
    "    browser = webdriver.Chrome(executable_path=chromedriver, chrome_options=chromeOptions)\n",
    "    browser.get(\"https://www.onlinejyotish.com/horo/\")\n",
    "    browser.maximize_window()\n",
    "    A1 = record1[0]\n",
    "    A2 = record1[1]\n",
    "    A3 = int(record1[2])\n",
    "    A4 = record1[3]\n",
    "    A5 = int(record1[4])\n",
    "    A6 = record1[5]\n",
    "    A7 = int(record1[6])\n",
    "    A8 = record1[7]\n",
    "    A9 = record1[8]\n",
    "    Name = browser.find_element(By.ID,'name')\n",
    "    Name.send_keys(A1)\n",
    "    Sex = browser.find_element(By.ID,'sex')\n",
    "    Sex.send_keys(A2)\n",
    "    Day = browser.find_element(By.ID,'day')\n",
    "    Day.send_keys(A3)\n",
    "    Month = browser.find_element(By.ID,'month')\n",
    "    Month.send_keys(A4)\n",
    "    Year = browser.find_element(By.ID,'year')\n",
    "    Year.clear()\n",
    "    Year.send_keys(A5)\n",
    "    Hour = browser.find_element(By.ID,'hour')\n",
    "    Hour.send_keys(A6)\n",
    "    Minute = browser.find_element(By.ID,'minute')\n",
    "    Minute.send_keys(A7)\n",
    "    Country = browser.find_element(By.ID,'country')\n",
    "    Country.send_keys(A8)\n",
    "    City = browser.find_element(By.ID,'city')\n",
    "    City.clear()\n",
    "    City.send_keys(A9)\n",
    "    ci=browser.find_elements(By.ID,'livesearch')\n",
    "    time.sleep(2)\n",
    "    ci[0].click()\n",
    "    time.sleep(5)\n",
    "    Sub = browser.find_element(By.XPATH,\"/html/body/div[2]/div/div/div/div[1]/form/div/div/table/tbody/tr[15]/td/input[4]\")\n",
    "    Sub.click()\n",
    "    time.sleep(5)\n",
    "    Pd = browser.find_element(By.ID,'btn')\n",
    "    Pd.click()\n",
    "    time.sleep(10)\n",
    "    PDF = browser.find_element(By.XPATH,'/html/body/div[2]/div/div/div[1]/a[1]')\n",
    "    PDF.click()\n",
    "    try:\n",
    "        time.sleep(10)\n",
    "        T1=browser.find_element(By.XPATH,'/html/ins')\n",
    "        T2=T1.find_element(By.XPATH,'//*[@id=\"aswift_5\"]')\n",
    "        browser.switch_to.frame(T2)\n",
    "        T3=browser.find_element(By.XPATH,'//*[@id=\"ad_iframe\"]')\n",
    "        browser.switch_to.frame(T3)\n",
    "        fin = browser.find_element(By.XPATH,'//*[@id=\"dismiss-button\"]')\n",
    "        fin.click()\n",
    "        time.sleep(30)\n",
    "    except:\n",
    "        print(\"ERROR@@@@@@@@@@\")\n",
    "        pass\n",
    "    return   "
   ]
  },
  {
   "cell_type": "code",
   "execution_count": 5,
   "id": "1714adfd",
   "metadata": {},
   "outputs": [],
   "source": [
    "for i in range(len(df)):\n",
    "    dataframe(df.iloc[i])"
   ]
  },
  {
   "cell_type": "markdown",
   "id": "856ec74a",
   "metadata": {},
   "source": [
    "<h3 style=\"color:green\">PDF Extraction</h3>"
   ]
  },
  {
   "cell_type": "code",
   "execution_count": 13,
   "id": "440fe299",
   "metadata": {},
   "outputs": [],
   "source": [
    "import PyPDF2\n",
    "import os\n",
    "import re"
   ]
  },
  {
   "cell_type": "code",
   "execution_count": 14,
   "id": "46934533",
   "metadata": {},
   "outputs": [],
   "source": [
    "os.chdir(r'C:\\Users\\tswar\\Testing_UI\\PDf_Files')"
   ]
  },
  {
   "cell_type": "code",
   "execution_count": 15,
   "id": "3b41f9b8",
   "metadata": {},
   "outputs": [],
   "source": [
    "l=[\"Name\",\"Gender\",\"DOB\",\"Location\"]\n",
    "columns=[\"Name\",\"Gender\",\"DOB\",\"Time\",\"Location\"]\n",
    "values=[]"
   ]
  },
  {
   "cell_type": "code",
   "execution_count": 16,
   "id": "3c0b3e95",
   "metadata": {},
   "outputs": [],
   "source": [
    "for i in os.listdir():\n",
    "    Obj = open(i, 'rb')\n",
    "    pdfReader = PyPDF2.PdfFileReader(Obj)\n",
    "    pageObj = pdfReader.getPage(0)\n",
    "    data = pageObj.extractText()\n",
    "    Eng_Data=re.sub(\"[^A-Za-z0-9 ]\",\" \",data)\n",
    "    Eng_Data=Eng_Data.strip(\" \")\n",
    "    l = [i for i in Eng_Data.split(\" \") if i.isalnum()]\n",
    "    r1 = ['Vedic','Horoscope','Birth','Details','Name','Gender','Date','of','Time','Place','District','Latitude','Longitude','Timezone','W','S']\n",
    "    data1=[i for i in l if i not in r1]\n",
    "    name=data1[0]\n",
    "    gender =data1[1]\n",
    "    dob=data1[2]+\"-\"+data1[3]+\"-\"+data1[4]\n",
    "    time=data1[5]+\".\"+data1[6]\n",
    "    location=data1[7]+\"-\"+data1[8]+\"-\"+data1[9]+\"-\"+data1[10]+\"-\"+data1[11]+\"-\"+data1[12]+\"-\"+data1[13]\n",
    "    values.append([name,gender,dob,time,location])"
   ]
  },
  {
   "cell_type": "code",
   "execution_count": 17,
   "id": "1ea502c1",
   "metadata": {},
   "outputs": [
    {
     "data": {
      "text/html": [
       "<div>\n",
       "<style scoped>\n",
       "    .dataframe tbody tr th:only-of-type {\n",
       "        vertical-align: middle;\n",
       "    }\n",
       "\n",
       "    .dataframe tbody tr th {\n",
       "        vertical-align: top;\n",
       "    }\n",
       "\n",
       "    .dataframe thead th {\n",
       "        text-align: right;\n",
       "    }\n",
       "</style>\n",
       "<table border=\"1\" class=\"dataframe\">\n",
       "  <thead>\n",
       "    <tr style=\"text-align: right;\">\n",
       "      <th></th>\n",
       "      <th>Name</th>\n",
       "      <th>Gender</th>\n",
       "      <th>DOB</th>\n",
       "      <th>Time</th>\n",
       "      <th>Location</th>\n",
       "    </tr>\n",
       "  </thead>\n",
       "  <tbody>\n",
       "    <tr>\n",
       "      <th>0</th>\n",
       "      <td>Teja</td>\n",
       "      <td>Male</td>\n",
       "      <td>9-12-1996</td>\n",
       "      <td>9.30</td>\n",
       "      <td>State-Himachal-Pradesh-Himachal-Pradesh-31-916...</td>\n",
       "    </tr>\n",
       "    <tr>\n",
       "      <th>1</th>\n",
       "      <td>Taylor</td>\n",
       "      <td>Female</td>\n",
       "      <td>13-12-1989</td>\n",
       "      <td>6.10</td>\n",
       "      <td>Politischer-Bezirk-Zwettl-Politischer-Bezirk-Z...</td>\n",
       "    </tr>\n",
       "    <tr>\n",
       "      <th>2</th>\n",
       "      <td>Alex</td>\n",
       "      <td>Male</td>\n",
       "      <td>17-1-2000</td>\n",
       "      <td>18.11</td>\n",
       "      <td>Tsimasham-Chukha-27-0989000-N-89-5360400</td>\n",
       "    </tr>\n",
       "  </tbody>\n",
       "</table>\n",
       "</div>"
      ],
      "text/plain": [
       "     Name  Gender         DOB   Time  \\\n",
       "0    Teja    Male   9-12-1996   9.30   \n",
       "1  Taylor  Female  13-12-1989   6.10   \n",
       "2    Alex    Male   17-1-2000  18.11   \n",
       "\n",
       "                                            Location  \n",
       "0  State-Himachal-Pradesh-Himachal-Pradesh-31-916...  \n",
       "1  Politischer-Bezirk-Zwettl-Politischer-Bezirk-Z...  \n",
       "2           Tsimasham-Chukha-27-0989000-N-89-5360400  "
      ]
     },
     "execution_count": 17,
     "metadata": {},
     "output_type": "execute_result"
    }
   ],
   "source": [
    "df=pd.DataFrame(values,columns=columns)\n",
    "df"
   ]
  },
  {
   "cell_type": "code",
   "execution_count": 18,
   "id": "428284ba",
   "metadata": {},
   "outputs": [
    {
     "name": "stdout",
     "output_type": "stream",
     "text": [
      "Enter the path To store loactionC:\\Users\\tswar\\Testing_UI\\Excel\n"
     ]
    }
   ],
   "source": [
    "x = input(\"Enter the path To store loaction\")"
   ]
  },
  {
   "cell_type": "code",
   "execution_count": 19,
   "id": "d4a45a3c",
   "metadata": {},
   "outputs": [],
   "source": [
    "os.chdir(x)"
   ]
  },
  {
   "cell_type": "code",
   "execution_count": 20,
   "id": "57098eb1",
   "metadata": {},
   "outputs": [],
   "source": [
    "df.to_csv(\"File.csv\",index=False)"
   ]
  },
  {
   "cell_type": "code",
   "execution_count": null,
   "id": "a173d9db",
   "metadata": {},
   "outputs": [],
   "source": []
  }
 ],
 "metadata": {
  "kernelspec": {
   "display_name": "Python 3 (ipykernel)",
   "language": "python",
   "name": "python3"
  },
  "language_info": {
   "codemirror_mode": {
    "name": "ipython",
    "version": 3
   },
   "file_extension": ".py",
   "mimetype": "text/x-python",
   "name": "python",
   "nbconvert_exporter": "python",
   "pygments_lexer": "ipython3",
   "version": "3.9.12"
  }
 },
 "nbformat": 4,
 "nbformat_minor": 5
}
