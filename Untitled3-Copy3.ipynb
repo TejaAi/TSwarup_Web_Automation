{
 "cells": [
  {
   "cell_type": "code",
   "execution_count": 1,
   "id": "2f9c9451",
   "metadata": {},
   "outputs": [],
   "source": [
    "import os\n",
    "import time\n",
    "import selenium\n",
    "import warnings\n",
    "warnings.filterwarnings('ignore')\n",
    "import pandas as pd"
   ]
  },
  {
   "cell_type": "code",
   "execution_count": 2,
   "id": "f85e470b",
   "metadata": {},
   "outputs": [],
   "source": [
    "from selenium import webdriver"
   ]
  },
  {
   "cell_type": "code",
   "execution_count": 3,
   "id": "e9972968",
   "metadata": {},
   "outputs": [],
   "source": [
    "from selenium.webdriver.support.ui import WebDriverWait       "
   ]
  },
  {
   "cell_type": "code",
   "execution_count": 4,
   "id": "f9a74f43",
   "metadata": {},
   "outputs": [],
   "source": [
    "from selenium.webdriver.common.by import By"
   ]
  },
  {
   "cell_type": "code",
   "execution_count": 5,
   "id": "d5f8e7bc",
   "metadata": {},
   "outputs": [],
   "source": [
    "chromeOptions = webdriver.ChromeOptions()\n",
    "prefs = {\"plugins.always_open_pdf_externally\":True}\n",
    "chromeOptions.add_experimental_option(\"prefs\",prefs)\n",
    "# chromeOptions.headless = True\n",
    "chromeOptions.add_argument(\"--disable-notifications\")\n",
    "chromedriver = \"C:\\Program Files (x86)\\Google\\Chrome\\Application\\chromedriver.exe\"\n",
    "browser = webdriver.Chrome(executable_path=chromedriver, chrome_options=chromeOptions)\n",
    "browser.maximize_window()"
   ]
  },
  {
   "cell_type": "code",
   "execution_count": 6,
   "id": "b73ed99f",
   "metadata": {},
   "outputs": [],
   "source": [
    "browser.get(\"https://www.onlinejyotish.com/horo/\")"
   ]
  },
  {
   "cell_type": "code",
   "execution_count": 7,
   "id": "afc8b124",
   "metadata": {},
   "outputs": [],
   "source": [
    "A1 = \"Aler\"\n",
    "A2 = \"F\"\n",
    "A3 = 19\n",
    "A4 = \"March\"\n",
    "A5 = 2000\n",
    "A6 = 6\n",
    "A7 = \"09(7 AM)\"\n",
    "A8 = 20\n",
    "A9 = \"American Samoa\"\n",
    "A10 =\"Anasosopo\"\n",
    "A11 =\"thejaswaroop1996@gmail.com\""
   ]
  },
  {
   "cell_type": "code",
   "execution_count": 8,
   "id": "3e0ac63e",
   "metadata": {},
   "outputs": [],
   "source": [
    "Name = browser.find_element(By.ID,'name')"
   ]
  },
  {
   "cell_type": "code",
   "execution_count": 9,
   "id": "b7719bfb",
   "metadata": {},
   "outputs": [],
   "source": [
    "Name.send_keys(A1)"
   ]
  },
  {
   "cell_type": "code",
   "execution_count": 10,
   "id": "7c6178dd",
   "metadata": {},
   "outputs": [],
   "source": [
    "Sex = browser.find_element(By.ID,'sex')"
   ]
  },
  {
   "cell_type": "code",
   "execution_count": 11,
   "id": "fc6d59f7",
   "metadata": {},
   "outputs": [],
   "source": [
    "Sex.send_keys(A2)"
   ]
  },
  {
   "cell_type": "code",
   "execution_count": 12,
   "id": "44628bc6",
   "metadata": {},
   "outputs": [],
   "source": [
    "Day = browser.find_element(By.ID,'day')"
   ]
  },
  {
   "cell_type": "code",
   "execution_count": 13,
   "id": "4a68911a",
   "metadata": {},
   "outputs": [],
   "source": [
    "Day.send_keys(A3)"
   ]
  },
  {
   "cell_type": "code",
   "execution_count": 14,
   "id": "cf4faceb",
   "metadata": {},
   "outputs": [],
   "source": [
    "Month = browser.find_element(By.ID,'month')"
   ]
  },
  {
   "cell_type": "code",
   "execution_count": 15,
   "id": "cb4115d9",
   "metadata": {},
   "outputs": [],
   "source": [
    "Month.send_keys(A4)"
   ]
  },
  {
   "cell_type": "code",
   "execution_count": 16,
   "id": "fa784f77",
   "metadata": {},
   "outputs": [],
   "source": [
    "Year = browser.find_element(By.ID,'year')"
   ]
  },
  {
   "cell_type": "code",
   "execution_count": 17,
   "id": "2fbfe622",
   "metadata": {},
   "outputs": [],
   "source": [
    "Year.clear()"
   ]
  },
  {
   "cell_type": "code",
   "execution_count": 18,
   "id": "56aa4441",
   "metadata": {},
   "outputs": [],
   "source": [
    "Year.send_keys(A5)"
   ]
  },
  {
   "cell_type": "code",
   "execution_count": 19,
   "id": "dedee391",
   "metadata": {},
   "outputs": [],
   "source": [
    "Hour = browser.find_element(By.ID,'hour')"
   ]
  },
  {
   "cell_type": "code",
   "execution_count": 20,
   "id": "a1b57f18",
   "metadata": {},
   "outputs": [],
   "source": [
    "Hour.send_keys(A7)"
   ]
  },
  {
   "cell_type": "code",
   "execution_count": 21,
   "id": "6a8ea3a8",
   "metadata": {},
   "outputs": [],
   "source": [
    "Minute = browser.find_element(By.ID,'minute')"
   ]
  },
  {
   "cell_type": "code",
   "execution_count": 22,
   "id": "a7ca433e",
   "metadata": {},
   "outputs": [],
   "source": [
    "Minute.send_keys(A8)"
   ]
  },
  {
   "cell_type": "code",
   "execution_count": 23,
   "id": "a502adf0",
   "metadata": {},
   "outputs": [],
   "source": [
    "Country = browser.find_element(By.ID,'country')"
   ]
  },
  {
   "cell_type": "code",
   "execution_count": 24,
   "id": "96160110",
   "metadata": {},
   "outputs": [],
   "source": [
    "Country.send_keys(A9)"
   ]
  },
  {
   "cell_type": "code",
   "execution_count": 25,
   "id": "596b2de2",
   "metadata": {},
   "outputs": [],
   "source": [
    "City = browser.find_element(By.ID,'city')"
   ]
  },
  {
   "cell_type": "code",
   "execution_count": 26,
   "id": "b6a47a36",
   "metadata": {},
   "outputs": [],
   "source": [
    "City.clear()"
   ]
  },
  {
   "cell_type": "code",
   "execution_count": 27,
   "id": "070b6e65",
   "metadata": {},
   "outputs": [],
   "source": [
    "City.send_keys(A10)"
   ]
  },
  {
   "cell_type": "code",
   "execution_count": 28,
   "id": "a08afd6e",
   "metadata": {},
   "outputs": [],
   "source": [
    "ci=browser.find_elements(By.ID,'livesearch')"
   ]
  },
  {
   "cell_type": "code",
   "execution_count": 29,
   "id": "a9dd8e85",
   "metadata": {},
   "outputs": [],
   "source": [
    "time.sleep(10)"
   ]
  },
  {
   "cell_type": "code",
   "execution_count": 30,
   "id": "ffe05758",
   "metadata": {},
   "outputs": [],
   "source": [
    "ci[0].click()"
   ]
  },
  {
   "cell_type": "code",
   "execution_count": 31,
   "id": "088b03f3",
   "metadata": {},
   "outputs": [],
   "source": [
    "time.sleep(10)"
   ]
  },
  {
   "cell_type": "code",
   "execution_count": 32,
   "id": "93fe456d",
   "metadata": {},
   "outputs": [],
   "source": [
    "Sub = browser.find_element(By.XPATH,\"/html/body/div[2]/div/div/div/div[1]/form/div/div/table/tbody/tr[15]/td/input[4]\")"
   ]
  },
  {
   "cell_type": "code",
   "execution_count": 33,
   "id": "9b7e9ade",
   "metadata": {},
   "outputs": [],
   "source": [
    "time.sleep(5)"
   ]
  },
  {
   "cell_type": "code",
   "execution_count": 34,
   "id": "57fd916f",
   "metadata": {},
   "outputs": [],
   "source": [
    "Sub.click()"
   ]
  },
  {
   "cell_type": "code",
   "execution_count": 35,
   "id": "c0605040",
   "metadata": {},
   "outputs": [],
   "source": [
    "Pd = browser.find_element(By.ID,'btn')"
   ]
  },
  {
   "cell_type": "code",
   "execution_count": 36,
   "id": "0ec7e109",
   "metadata": {},
   "outputs": [],
   "source": [
    "Pd.click()"
   ]
  },
  {
   "cell_type": "code",
   "execution_count": 37,
   "id": "9368b21f",
   "metadata": {},
   "outputs": [],
   "source": [
    "PDF = browser.find_element(By.XPATH,'/html/body/div[2]/div/div/div[1]/a[1]')"
   ]
  },
  {
   "cell_type": "code",
   "execution_count": 38,
   "id": "5d60efc8",
   "metadata": {},
   "outputs": [],
   "source": [
    "PDF.click()"
   ]
  },
  {
   "cell_type": "code",
   "execution_count": 39,
   "id": "4f05be5d",
   "metadata": {},
   "outputs": [],
   "source": [
    "time.sleep(10)"
   ]
  },
  {
   "cell_type": "code",
   "execution_count": 40,
   "id": "8760d355",
   "metadata": {},
   "outputs": [],
   "source": [
    "try:\n",
    "    x=browser.find_element(By.XPATH,'/html/ins')\n",
    "    X1=x.find_element(By.ID,'aswift_6_host')\n",
    "    browser.switch_to.frame('aswift_6')\n",
    "    X2=browser.find_element(By.ID,'ad_iframe')\n",
    "    browser.switch_to.frame(X2)\n",
    "    browser.find_element(By.XPATH,'//*[@id=\"dismiss-button\"]').click()\n",
    "except:\n",
    "    pass\n",
    "    "
   ]
  },
  {
   "cell_type": "markdown",
   "id": "c83d38b0",
   "metadata": {},
   "source": [
    "<h3 style=\"color:green\">PDF Extraction</h3>"
   ]
  },
  {
   "cell_type": "code",
   "execution_count": 3,
   "id": "4e547abe",
   "metadata": {},
   "outputs": [
    {
     "name": "stdout",
     "output_type": "stream",
     "text": [
      "Defaulting to user installation because normal site-packages is not writeable\n",
      "Collecting PyPDF2\n",
      "  Downloading PyPDF2-2.11.1-py3-none-any.whl (220 kB)\n",
      "Requirement already satisfied: typing-extensions>=3.10.0.0 in c:\\programdata\\anaconda3\\lib\\site-packages (from PyPDF2) (4.1.1)\n",
      "Installing collected packages: PyPDF2\n",
      "Successfully installed PyPDF2-2.11.1\n"
     ]
    }
   ],
   "source": [
    "!pip install PyPDF2"
   ]
  },
  {
   "cell_type": "code",
   "execution_count": 4,
   "id": "6316b1a8",
   "metadata": {},
   "outputs": [],
   "source": [
    "import PyPDF2"
   ]
  },
  {
   "cell_type": "code",
   "execution_count": 5,
   "id": "31c9f1a5",
   "metadata": {},
   "outputs": [],
   "source": [
    "import os"
   ]
  },
  {
   "cell_type": "code",
   "execution_count": 7,
   "id": "5b412a1f",
   "metadata": {},
   "outputs": [],
   "source": [
    "os.chdir(r'C:\\Users\\tswar\\Downloads')"
   ]
  },
  {
   "cell_type": "code",
   "execution_count": 8,
   "id": "0cd801b4",
   "metadata": {},
   "outputs": [
    {
     "data": {
      "text/plain": [
       "'C:\\\\Users\\\\tswar\\\\Downloads'"
      ]
     },
     "execution_count": 8,
     "metadata": {},
     "output_type": "execute_result"
    }
   ],
   "source": [
    "pwd"
   ]
  },
  {
   "cell_type": "code",
   "execution_count": 10,
   "id": "2c2ecb33",
   "metadata": {},
   "outputs": [
    {
     "name": "stdout",
     "output_type": "stream",
     "text": [
      " Volume in drive C has no label.\n",
      " Volume Serial Number is A007-E621\n",
      "\n",
      " Directory of C:\\Users\\tswar\\Downloads\n",
      "\n",
      "04/13/2022  11:31 AM         6,002,438 (Lecture Notes in Computer Science 1682) Jan J. Koenderink, Andrea J. van Doorn (auth.), Mads Nielsen, Peter Johansen, Ole Fogh Olsen, Joachim Weickert (eds.) - Scale-Space Theories in Computer Vision.djvu\n",
      "10/16/2022  01:01 AM    <DIR>          .\n",
      "10/16/2022  01:01 AM    <DIR>          ..\n",
      "07/21/2022  02:37 PM    <DIR>          .ipynb_checkpoints\n",
      "06/20/2022  10:12 AM         4,690,415 1.2. Logistic Regression Code.pdf\n",
      "05/04/2022  11:49 PM    <DIR>          1_DataScience Downloads\n",
      "04/13/2022  11:49 AM         4,487,639 15_NEW-2020-ATTENTION-ENC-DEC-TRANSFORMERS-Lect15 (1).pptx\n",
      "03/29/2022  02:38 PM         4,487,639 15_NEW-2020-ATTENTION-ENC-DEC-TRANSFORMERS-Lect15.pptx\n",
      "01/06/2022  01:54 PM           475,957 20211006_172634.jpg\n",
      "03/27/2022  05:37 PM        12,595,584 24926764_artificial-intelligence-background_by_danielcruise_preview.mp4\n",
      "02/27/2022  10:14 PM            50,359 3c5e722af31d630fe4257f89cdbfba1f.jpg\n",
      "03/27/2022  12:17 PM           157,054 693325.jpg\n",
      "02/25/2022  06:32 PM            83,063 AdmissionCard-3073245-9e9918eb-a836-4498-be70-407a07179a7c-742.pdf\n",
      "04/01/2022  11:48 AM           575,528 Akshay Kumar (1).pdf\n",
      "04/01/2022  11:48 AM           575,528 Akshay Kumar.pdf\n",
      "10/08/2022  03:39 PM       622,731,992 Anaconda3-2022.05-Windows-x86_64.exe\n",
      "03/22/2022  03:39 AM            86,048 Architecture-EncoderDecoder_v2-1080x453.png\n",
      "04/19/2022  02:38 PM           199,644 archive (1).zip\n",
      "06/11/2022  12:38 PM            11,090 archive (2).zip\n",
      "08/05/2022  08:35 PM    <DIR>          archive (3)\n",
      "08/05/2022  08:31 PM        69,155,672 archive (3).zip\n",
      "08/16/2022  04:32 PM        88,843,537 archive (4).zip\n",
      "04/19/2022  02:38 PM           199,644 archive.zip\n",
      "07/10/2022  08:42 PM           546,567 attention-mechanism-japanese-english.ipynb\n",
      "03/15/2022  11:50 PM         2,203,390 avengers.ipynb\n",
      "08/27/2022  12:40 PM           212,141 Bald-Eagle-Wallpaper-HD-to-spread-wings-yellow-beak-sharp-claws-1920x1440.jpg\n",
      "04/12/2022  08:58 PM           178,871 BangaruSuresh[2_5] (1).pdf\n",
      "04/12/2022  08:58 PM           178,871 BangaruSuresh[2_5].pdf\n",
      "07/08/2022  01:00 PM         2,415,162 Basic2Advance (1).pdf\n",
      "07/08/2022  01:00 PM         2,415,162 Basic2Advance.pdf\n",
      "04/13/2022  11:31 AM         8,865,784 Bernd Jahne - Computer vision and applications-Academic Press (2000).djvu\n",
      "04/13/2022  11:55 AM       447,685,170 Bernd Jahne - Computer vision and applications-Academic Press (2000).pdf\n",
      "03/14/2022  09:57 AM           507,675 black box ppt.pdf\n",
      "03/27/2022  05:54 PM         3,139,342 blue-curve-background.zip\n",
      "06/17/2022  10:30 AM           598,092 Bot Articles Data.pdf\n",
      "06/15/2022  05:10 PM            29,902 business.png\n",
      "07/15/2022  09:25 PM         4,311,416 Candidate Handbook 2022.pdf\n",
      "03/14/2022  10:18 AM         2,131,968 Chapter13.ppt\n",
      "06/20/2022  04:22 PM           458,419 ChatBot.pdf\n",
      "06/13/2022  04:15 PM           420,031 chatbot-master.zip\n",
      "08/23/2022  10:26 PM        12,832,256 chromedriver.exe\n",
      "03/23/2022  04:10 PM           684,858 Churn_Modelling.csv\n",
      "12/31/2021  09:58 PM       594,585,791 Class Notes (PPT) & Codes-20211231T161712Z-001.zip\n",
      "03/22/2022  10:54 PM            86,720 Copy of Teja (1).pdf\n",
      "03/22/2022  10:54 PM            86,720 Copy of Teja (2).pdf\n",
      "03/22/2022  10:54 PM            86,720 Copy of Teja (3).pdf\n",
      "03/30/2022  02:34 PM            11,397 Copy of Teja (4).docx\n",
      "03/30/2022  02:31 PM            87,491 Copy of Teja (4).pdf\n",
      "03/30/2022  03:02 PM            10,933 Copy of Teja (5) (1).docx\n",
      "03/30/2022  03:02 PM            10,933 Copy of Teja (5).docx\n",
      "03/30/2022  03:01 PM            88,559 Copy of Teja (5).pdf\n",
      "03/30/2022  03:37 PM            84,340 Copy of Teja (6).pdf\n",
      "03/30/2022  03:38 PM             9,697 Copy of Teja (6)-converted.docx\n",
      "03/30/2022  01:38 PM            11,369 Copy of Teja.docx\n",
      "03/18/2022  11:23 PM            86,720 Copy of Teja.pdf\n",
      "03/12/2022  06:45 PM         9,916,637 cornell_movie_dialogs_corpus.zip\n",
      "04/04/2022  08:36 PM           100,779 Dasari (1).pdf\n",
      "04/08/2022  08:25 AM           100,767 Dasari (2).pdf\n",
      "04/08/2022  03:43 PM           100,767 Dasari (3).pdf\n",
      "04/08/2022  03:44 PM           104,008 Dasari (4).pdf\n",
      "04/08/2022  03:46 PM           103,911 Dasari (5).pdf\n",
      "04/08/2022  03:52 PM           103,681 Dasari (6).pdf\n",
      "06/21/2022  06:01 PM           110,962 Dasari Teja Swaroop Data Science Internship.pdf\n",
      "04/12/2022  11:27 AM           355,070 Dasari Tejaswaroop (1).pdf\n",
      "04/12/2022  10:19 AM           513,782 Dasari Tejaswaroop (1).png\n",
      "04/12/2022  11:34 AM           184,014 Dasari Tejaswaroop (2) (1).pdf\n",
      "04/12/2022  11:29 AM           184,014 Dasari Tejaswaroop (2).pdf\n",
      "04/12/2022  11:30 AM           189,520 Dasari Tejaswaroop (3).pdf\n",
      "04/12/2022  11:44 AM           177,618 Dasari Tejaswaroop (4).pdf\n",
      "04/12/2022  11:45 AM           171,159 Dasari Tejaswaroop (5).pdf\n",
      "04/12/2022  12:23 PM           177,066 Dasari Tejaswaroop (6).pdf\n",
      "04/12/2022  12:25 PM           177,072 Dasari Tejaswaroop (7).pdf\n",
      "04/12/2022  10:20 AM           184,113 Dasari Tejaswaroop.pdf\n",
      "04/12/2022  11:43 AM           871,923 Dasari Tejaswaroop.zip\n",
      "04/04/2022  08:28 PM           100,774 Dasari.pdf\n",
      "05/11/2022  03:10 PM       576,202,147 Data Science & AI (SocialPrachar)-20220511T091726Z-001.zip\n",
      "05/14/2022  02:52 PM    <DIR>          Data Science _ AI (SocialPrachar)\n",
      "06/17/2022  05:24 PM            73,135 Data Scientist- Rebit-Navi Mumbai.pdf\n",
      "07/15/2022  02:07 PM           117,035 Data Scientist.pdf\n",
      "09/13/2022  01:27 PM    <DIR>          DataFiles\n",
      "03/12/2022  04:18 PM            32,840 data-science-manager-resume-example.pdf\n",
      "04/04/2022  05:55 PM             6,604 Data-Scientist-Intern-Resume-ExampleSS.docx\n",
      "09/17/2022  04:19 PM           811,246 download.htm\n",
      "03/20/2022  10:09 AM               732 Downloads - Shortcut.lnk\n",
      "03/17/2022  07:03 PM            47,528 Dvyg3ntt.TTF\n",
      "03/13/2022  07:16 PM        66,262,304 eng_to_hindi.h5\n",
      "04/17/2022  10:24 AM           100,136 fantasy_antenna_cute_animal_green_background_hd_fantasy-1280x720.jpg\n",
      "08/06/2022  12:13 PM           122,341 favicon.ico\n",
      "08/30/2022  11:02 AM           963,698 Genrative_Bot.ipynb\n",
      "09/06/2022  10:02 AM           743,529 GIT - VCS by Using AWS.pdf\n",
      "02/24/2022  09:39 PM             1,752 gitattributes\n",
      "06/15/2022  09:00 AM       126,260,112 GitHubDesktopSetup-x64.exe\n",
      "04/23/2022  11:50 AM            79,068 Gopalreddy Annapureddy 24-08-99 (3).pdf\n",
      "04/13/2022  11:14 AM        14,281,237 Hamed Habibi Aghdam, Elnaz Jahani Heravi (auth.) - Guide to Convolutional Neural Networks_ A Practical Application to Traffic-Sign Detection and Classification-Springer International Publishing (2017).pdf\n",
      "10/15/2022  02:05 PM    <DIR>          Hari Data\n",
      "06/18/2022  11:51 AM            20,981 IBM Datascience.docx\n",
      "08/13/2022  09:22 AM            30,130 IDFCFIRSTBankstatement_10091496132 (1) (1).docx\n",
      "08/13/2022  09:07 AM            30,130 IDFCFIRSTBankstatement_10091496132 (1).docx\n",
      "08/13/2022  09:06 AM            73,074 IDFCFIRSTBankstatement_10091496132 (1).pdf\n",
      "08/13/2022  09:05 AM            73,074 IDFCFIRSTBankstatement_10091496132.pdf\n",
      "08/16/2022  08:30 PM            28,600 IDFCFIRSTBankstatement_10091496132_091828986 (1).docx\n",
      "08/13/2022  09:23 AM            30,184 IDFCFIRSTBankstatement_10091496132_091828986.docx\n",
      "08/13/2022  09:22 AM            73,256 IDFCFIRSTBankstatement_10091496132_091828986.pdf\n",
      "07/23/2022  12:29 PM            24,946 IDFCFIRSTBankstatement_10091496132_235425848 (1).docx\n",
      "07/23/2022  12:20 PM            25,034 IDFCFIRSTBankstatement_10091496132_235425848.docx\n",
      "07/23/2022  12:20 PM            67,227 IDFCFIRSTBankstatement_10091496132_235425848.pdf\n",
      "08/31/2022  03:38 PM       574,714,736 Image Caption Bot Project code-20220831T100014Z-002.zip\n",
      "05/17/2022  12:11 AM    <DIR>          imbalanced-learn-0.9.1\n",
      "09/09/2022  11:13 AM           451,039 imbalanced-learn-0.9.1.zip\n",
      "04/13/2022  11:24 AM         2,778,222 IT Pro - York University._ Skillsoft Books - York University._ Ii, Taweh Beysolow - Applied Natural Language Processing with Python_ Implementing Machine Learning and Deep Learning Algorithms for Natu.pdf\n",
      "06/21/2022  11:19 AM           450,475 Job Description_ Jr Data Scientist _ 2022 -05.pdf\n",
      "01/22/2022  03:17 PM    <DIR>          kaggle_titanic-main\n",
      "08/16/2022  08:16 PM            68,454 Letter of Appointment - D Teja.docx\n",
      "08/16/2022  08:09 PM           256,429 Letter of Appointment - D Teja.pdf\n",
      "05/11/2022  04:26 PM         2,022,361 Linear Regression.pdf\n",
      "03/27/2022  05:27 PM         3,661,743 Messala ú SlidesCarnival (1).pptx\n",
      "03/27/2022  05:27 PM         3,661,743 Messala ú SlidesCarnival.pptx\n",
      "03/13/2022  07:14 PM             4,036 model.json\n",
      "04/18/2022  10:39 AM       456,826,880 mysql-installer-community-8.0.28.0.msi\n",
      "03/13/2022  09:43 PM         4,160,107 nlp-data-scientist-resume-example (1).docx\n",
      "03/13/2022  09:05 PM            24,515 nlp-data-scientist-resume-example (1).pdf\n",
      "03/12/2022  04:18 PM            24,515 nlp-data-scientist-resume-example.pdf\n",
      "03/17/2022  11:38 PM            39,387 notebook57acaef15e (1).ipynb\n",
      "03/17/2022  08:18 PM            39,387 notebook57acaef15e.ipynb\n",
      "03/12/2022  06:37 PM             9,581 notebookf57bc242ad.ipynb\n",
      "08/24/2022  03:04 PM            59,062 offer letter - Dasari Teja Swaroop (1).docx\n",
      "08/24/2022  02:08 PM            59,014 offer letter - Dasari Teja Swaroop.docx\n",
      "08/24/2022  03:18 PM           259,498 offer letter - Dasari Teja Swaroop.pdf\n",
      "08/24/2022  02:02 PM            69,195 offer letter - teja Dasari (1).docx\n",
      "08/24/2022  01:39 PM           257,027 offer letter - teja Dasari (1).pdf\n",
      "08/17/2022  03:53 PM           257,027 offer letter - teja Dasari.pdf\n",
      "06/13/2022  03:04 PM    <DIR>          OLX\n",
      "03/22/2022  04:33 AM         9,007,756 olx_price_prediction_Prangya Prasmita Mahanta.pptx\n",
      "10/15/2022  03:01 PM         1,915,676 onlinejyotish_1665826206.pdf\n",
      "10/15/2022  08:27 PM         1,915,676 onlinejyotish_1665845845.pdf\n",
      "10/15/2022  09:06 PM         1,915,676 onlinejyotish_1665848056.pdf\n",
      "10/15/2022  09:10 PM         1,915,676 onlinejyotish_1665848319 (1).pdf\n",
      "10/15/2022  09:10 PM         1,915,676 onlinejyotish_1665848319.pdf\n",
      "10/15/2022  10:10 PM         1,853,990 onlinejyotish_1665851946.pdf\n",
      "10/15/2022  10:17 PM         1,950,208 onlinejyotish_1665852380.pdf\n",
      "10/15/2022  10:41 PM         2,987,459 onlinejyotish_1665853790.pdf\n",
      "10/15/2022  11:24 PM         1,936,736 onlinejyotish_1665856313 (1).pdf\n",
      "10/15/2022  11:24 PM         1,936,736 onlinejyotish_1665856313.pdf\n",
      "10/16/2022  12:36 AM         1,950,804 onlinejyotish_1665860772.pdf\n",
      "10/16/2022  12:52 AM         1,950,801 onlinejyotish_1665861288.pdf\n",
      "10/16/2022  01:01 AM         2,043,330 onlinejyotish_1665862285.pdf\n",
      "06/05/2022  09:39 PM    <DIR>          opencv\n",
      "08/24/2022  02:07 PM            91,422 Payslip AUGUEST  2022 - D Teja Swaroop.docx\n",
      "08/24/2022  01:57 PM           114,591 Payslip JULY 2022 - D Teja Swaroop (1).docx\n",
      "08/24/2022  02:07 PM           114,591 Payslip JULY 2022 - D Teja Swaroop (2).docx\n",
      "08/24/2022  01:57 PM           114,591 Payslip JULY 2022 - D Teja Swaroop.docx\n",
      "08/24/2022  02:08 PM           114,592 Payslip JUNE 2022 - D Teja Swaroop.docx\n",
      "04/12/2022  08:27 AM           196,835 pdf2png.zip\n",
      "04/18/2022  11:21 AM           806,079 pexels-rodrigo-souza-2531709.jpg\n",
      "03/17/2022  01:42 AM           529,218 -Pngtree-blue carbon background with sport_1200848.jpg\n",
      "03/27/2022  05:59 PM           426,338 -Pngtree-geometric neon geometric forms and_1179018.jpg\n",
      "06/15/2022  05:09 PM           257,230 pngwing.com (1).png\n",
      "06/15/2022  05:23 PM           186,889 pngwing.com (2).png\n",
      "06/15/2022  05:05 PM           546,503 pngwing.com.png\n",
      "09/06/2022  10:56 AM    <DIR>          PortableGit\n",
      "04/04/2022  05:55 PM             3,958 Professional-Data-Scientist-Resume.doc.zip\n",
      "08/14/2022  09:44 AM            37,689 Profile.pdf\n",
      "04/12/2022  08:27 AM    <DIR>          Ravi-Resume\n",
      "04/12/2022  08:11 AM            44,665 Ravi-Resume.pdf\n",
      "04/12/2022  08:20 AM            29,481 Ravi-Resume-converted.docx\n",
      "03/12/2022  06:28 PM            52,380 RC_2015-01.bz2.torrent\n",
      "06/13/2022  05:16 PM        50,860,785 ReactChatBot-master.zip\n",
      "06/08/2022  04:14 PM           366,538 react-speech-recognition-master.zip\n",
      "03/24/2022  09:33 AM            61,870 Real_Combine.csv\n",
      "08/06/2022  11:51 AM        41,571,801 realistic-galaxy-background.zip\n",
      "07/06/2022  09:21 PM            62,976 Resume (1).doc\n",
      "04/25/2022  11:15 AM           178,751 Resume (1).pdf\n",
      "08/14/2022  11:36 AM            32,828 Resume (1)samp.docx\n",
      "04/25/2022  02:05 PM           178,596 Resume (2).pdf\n",
      "04/20/2022  12:02 PM           178,843 Resume.pdf\n",
      "08/01/2022  09:20 AM            27,868 Revise_Mahes sir_Batch.pdf\n",
      "06/15/2022  04:51 PM            18,913 robotics.png\n",
      "08/29/2022  09:48 AM    <DIR>          ROHAN SIR BATCH\n",
      "10/15/2022  10:17 AM    <DIR>          Rohan Sir Batch Task Submission\n",
      "07/22/2022  10:57 AM            43,283 Rohan_Sir_Batch.pdf\n",
      "04/07/2022  11:41 AM             5,741 sarees.csv\n",
      "09/03/2022  12:40 PM       157,820,120 Seq2Seq chatbot using keras _ lstm _ deep learning chatbot _ python.mp4\n",
      "06/20/2022  10:48 PM            49,928 Set _B.pdf\n",
      "06/21/2022  10:18 AM            31,658 Set___B (1).pdf\n",
      "06/21/2022  10:20 AM            31,658 Set___B (2).pdf\n",
      "06/21/2022  10:16 AM            31,658 Set___B.pdf\n",
      "06/20/2022  10:21 PM            42,918 Set_A.pdf\n",
      "06/15/2022  05:00 PM             4,325 signal.png\n",
      "03/20/2022  10:32 AM           113,336 skipgram-vs-cbow-continuous-bag-of-words-word2vec-word-representation-1024x538.png\n",
      "08/11/2022  09:55 AM            38,661 SocialPrachar.AI.pdf\n",
      "02/24/2022  08:10 AM    <DIR>          socialpro1\n",
      "08/27/2022  12:46 PM    <DIR>          SocialTek\n",
      "05/11/2022  09:44 AM        76,735,811 SocialTek.zip\n",
      "06/24/2022  10:40 AM    <DIR>          SocialTek_Batch\n",
      "08/14/2022  11:54 AM            28,497 srinivas@resume.docx\n",
      "02/27/2022  10:08 PM           520,655 stock-footage-cosmic-meditation-silhouette-of-a-person-sitting-in-lotus-pose-and-achieving-enlightenment.webm\n",
      "08/29/2022  10:40 AM         1,656,720 STROKE PREDICTION. - Jupyter Notebook.pdf\n",
      "07/11/2022  09:43 AM    <DIR>          Sudoku_student_solution_solved_copy2\n",
      "07/11/2022  09:43 AM           386,107 Sudoku_student_solution_solved_copy2.zip\n",
      "07/13/2022  11:44 AM           142,514 Synopsis.pdf\n",
      "08/18/2022  04:16 PM            20,580 Task 1.pdf\n",
      "07/20/2022  05:27 PM         1,424,168 TeamsSetupx64_s_8DA6A474E6C7AC6-7-0_c_w_.exe\n",
      "06/14/2022  04:28 PM    <DIR>          Technical-Service-Documentation-Template\n",
      "06/14/2022  04:28 PM         2,226,606 Technical-Service-Documentation-Template.zip\n",
      "03/16/2022  10:00 AM            35,481 Teja (1).ipynb\n",
      "04/12/2022  12:28 PM           176,741 TEJA (1).pdf\n",
      "06/08/2022  11:14 AM           837,738 TEJA (1).zip\n",
      "04/16/2022  11:25 AM           186,282 TEJA (10).pdf\n",
      "04/16/2022  11:26 AM           186,282 TEJA (11).pdf\n",
      "04/16/2022  11:26 AM           186,282 TEJA (12).pdf\n",
      "04/20/2022  11:30 AM           142,410 TEJA (13).pdf\n",
      "04/20/2022  11:50 AM           178,929 TEJA (14).pdf\n",
      "04/20/2022  11:54 AM           142,796 TEJA (15).pdf\n",
      "04/21/2022  02:10 PM           309,135 TEJA (16).pdf\n",
      "04/21/2022  02:11 PM           178,751 TEJA (17).pdf\n",
      "04/25/2022  01:32 PM           178,587 TEJA (18).pdf\n",
      "04/25/2022  01:43 PM           178,596 Teja (19).pdf\n",
      "04/12/2022  12:31 PM           176,702 TEJA (2).pdf\n",
      "05/03/2022  11:10 AM           187,042 TEJA (20).pdf\n",
      "04/12/2022  08:07 PM           177,804 TEJA (3).pdf\n",
      "04/12/2022  08:23 PM           177,806 TEJA (4) (1).pdf\n",
      "04/12/2022  08:15 PM           177,806 TEJA (4).pdf\n",
      "04/13/2022  01:02 AM           137,380 TEJA (5).pdf\n",
      "04/13/2022  07:31 AM           374,655 TEJA (7).pdf\n",
      "04/13/2022  10:35 AM           186,134 TEJA (8).pdf\n",
      "04/13/2022  10:43 AM           186,446 TEJA (9).pdf\n",
      "08/13/2022  11:17 AM           131,832 Teja offer letter (1).docx\n",
      "08/13/2022  11:16 AM           131,832 Teja offer letter.docx\n",
      "06/21/2022  05:53 PM           779,963 Teja offer letter.pdf\n",
      "06/17/2022  04:23 PM           115,177 TEJA.docx\n",
      "03/15/2022  10:20 AM            21,141 Teja.ipynb\n",
      "03/22/2022  09:17 AM           136,620 Teja.pdf\n",
      "04/12/2022  08:14 PM           355,360 TEJA.png\n",
      "04/20/2022  11:54 AM         1,544,602 TEJA.zip\n",
      "09/06/2022  01:28 PM           359,482 Teja1996.pdf\n",
      "03/30/2022  03:17 PM            86,927 Teja5[DataScience] (1).pdf\n",
      "03/30/2022  03:11 PM            86,927 Teja5[DataScience].pdf\n",
      "04/04/2022  06:09 PM           199,107 Tejaai.pdf\n",
      "03/30/2022  02:44 PM            86,151 TejaDS.pdf\n",
      "04/18/2022  12:47 PM           184,258 TejaSwaroopD.pdf\n",
      "03/15/2022  09:07 PM         9,872,852 test.csv.zip\n",
      "03/27/2022  05:25 PM           868,990 tf89753508_win32.potx\n",
      "03/30/2022  11:03 PM           102,248 topics_for_revision (2).pdf\n",
      "03/30/2022  11:03 PM           126,739 topics_for_revision (3).pdf\n",
      "03/15/2022  09:07 PM        38,841,253 train.csv.zip\n",
      "08/30/2022  09:29 AM        22,591,192 training_model.h5\n",
      "07/10/2022  11:38 PM           529,843 treetop-sunlight-close-up-laptop-2seq9fwbam6zo1cx.jpg\n",
      "01/25/2022  04:37 PM    <DIR>          Tswarup\n",
      "01/25/2022  04:36 PM           798,354 Tswarup.rar\n",
      "09/17/2022  10:36 PM        29,203,558 Tweet_NFT.xlsx - Sheet1 (1).csv\n",
      "04/26/2022  12:38 PM           257,501 Understanding File Keras sequence to sequence English to french.ipynb\n",
      "04/26/2022  12:38 PM           334,356 undertsanding file keras seq to seq .ipynb\n",
      "06/16/2022  05:20 PM           449,935 Untitled document.pdf\n",
      "05/31/2022  09:53 PM             3,283 Untitled1.ipynb\n",
      "04/07/2022  02:41 PM            27,590 Untitled126-Copy1.ipynb\n",
      "07/29/2022  02:18 PM         6,378,633 Untitled2 (1).ipynb\n",
      "07/21/2022  03:47 PM            18,743 Untitled2.ipynb\n",
      "08/04/2022  03:11 PM         4,394,118 Untitled20.ipynb\n",
      "07/20/2022  09:53 AM             4,892 Untitled22.ipynb\n",
      "03/22/2022  02:16 AM           306,433 Untitled3 (1).ipynb\n",
      "03/30/2022  12:48 AM           444,536 Untitled3 (2).ipynb\n",
      "03/21/2022  03:47 PM           115,708 Untitled3.ipynb\n",
      "03/17/2022  09:53 PM           142,483 Untitled7.ipynb\n",
      "03/22/2022  02:15 AM           145,719 Untitled7777.ipynb\n",
      "03/20/2022  10:07 AM           810,235 uwp2153755.png\n",
      "06/16/2022  05:26 PM           449,931 Veerlop.pdf\n",
      "04/13/2022  11:33 AM         6,038,695 Vishwanathan Narayanan - Data Science and Machine Learning Interview Questions Using Python_ A Complete Question Bank to Crack Your Interview (English Edition).pdf\n",
      "06/15/2022  11:47 AM           344,755 Voice1text-Document.pdf\n",
      "06/14/2022  05:54 PM           344,267 Voice2Text.pdf\n",
      "07/20/2022  11:20 AM           227,972 WA_Fn-UseC_-HR-Employee-Attrition.tsv.txt\n",
      "03/23/2022  02:15 PM           977,501 WA_Fn-UseC_-Telco-Customer-Churn.csv\n",
      "03/23/2022  12:19 AM           846,903 wallpaperflare.com_wallpaper (1).jpg\n",
      "04/21/2022  09:46 AM         1,418,777 wallpaperflare.com_wallpaper (10).jpg\n",
      "06/19/2022  08:38 AM           328,892 wallpaperflare.com_wallpaper (11).jpg\n",
      "06/19/2022  08:40 AM         1,613,717 wallpaperflare.com_wallpaper (12).jpg\n",
      "03/31/2022  09:05 AM         1,093,858 wallpaperflare.com_wallpaper (2).jpg\n",
      "04/01/2022  11:57 AM           986,733 wallpaperflare.com_wallpaper (3).jpg\n",
      "04/01/2022  06:54 PM           468,434 wallpaperflare.com_wallpaper (4).jpg\n",
      "04/02/2022  08:28 AM           859,410 wallpaperflare.com_wallpaper (5).jpg\n",
      "04/06/2022  04:27 PM         1,059,585 wallpaperflare.com_wallpaper (6).jpg\n",
      "04/06/2022  06:48 PM           979,153 wallpaperflare.com_wallpaper (7).jpg\n",
      "04/13/2022  09:23 AM           636,210 wallpaperflare.com_wallpaper (8).jpg\n",
      "04/16/2022  02:34 PM         1,152,002 wallpaperflare.com_wallpaper (9).jpg\n",
      "03/23/2022  12:18 AM         1,051,313 wallpaperflare.com_wallpaper.jpg\n",
      "03/22/2022  04:18 AM            70,949 WhatsApp Image 2022-03-22 at 4.17.38 AM.jpeg\n",
      "03/27/2022  11:41 PM           125,926 WhatsApp Image 2022-03-27 at 11.38.47 PM.jpeg\n",
      "03/27/2022  09:52 PM            45,166 WhatsApp Image 2022-03-27 at 9.50.02 PM.jpeg\n",
      "04/09/2022  03:06 PM           148,937 WhatsApp Image 2022-04-09 at 2.59.06 PM.jpeg\n",
      "04/09/2022  03:07 PM           257,158 WhatsApp Image 2022-04-09 at 2.59.07 PM.jpeg\n",
      "07/27/2022  05:27 PM            66,024 WhatsApp Image 2022-07-23 at 4.28.43 PM.jpeg\n",
      "08/08/2022  05:37 PM            39,963 WhatsApp Image 2022-08-08 at 5.36.34 PM (1).jpeg\n",
      "08/08/2022  05:37 PM            39,963 WhatsApp Image 2022-08-08 at 5.36.34 PM.jpeg\n",
      "09/09/2022  11:06 PM            69,200 WhatsApp Image 2022-09-09 at 11.01.54 PM.jpeg\n",
      "03/20/2022  10:06 AM           295,390 wp5015680-iron-man-laptop-wallpapers.jpg\n",
      "03/20/2022  10:06 AM           200,385 wp59083-iron-man-laptop-wallpapers.jpg\n",
      "             273 File(s)  4,272,818,940 bytes\n",
      "              22 Dir(s)  95,990,206,464 bytes free\n"
     ]
    }
   ],
   "source": [
    "ls"
   ]
  },
  {
   "cell_type": "code",
   "execution_count": 12,
   "id": "ddb6e14d",
   "metadata": {},
   "outputs": [],
   "source": [
    "Obj = open('onlinejyotish_1665856313.pdf', 'rb') "
   ]
  },
  {
   "cell_type": "code",
   "execution_count": 13,
   "id": "6ffb036e",
   "metadata": {},
   "outputs": [],
   "source": [
    "pdfReader = PyPDF2.PdfFileReader(Obj) "
   ]
  },
  {
   "cell_type": "code",
   "execution_count": 14,
   "id": "68d3bab2",
   "metadata": {},
   "outputs": [
    {
     "name": "stdout",
     "output_type": "stream",
     "text": [
      "38\n"
     ]
    }
   ],
   "source": [
    "print(pdfReader.numPages) "
   ]
  },
  {
   "cell_type": "code",
   "execution_count": 15,
   "id": "0595154a",
   "metadata": {},
   "outputs": [],
   "source": [
    "pageObj = pdfReader.getPage(0)"
   ]
  },
  {
   "cell_type": "code",
   "execution_count": 17,
   "id": "e5cdad36",
   "metadata": {},
   "outputs": [
    {
     "data": {
      "text/plain": [
       "{'/Type': '/Page',\n",
       " '/Resources': {'/ProcSet': ['/PDF', '/Text', '/ImageB', '/ImageC', '/ImageI'],\n",
       "  '/ExtGState': {'/G3': {'/ca': 1, '/BM': '/Normal'},\n",
       "   '/G4': {'/ca': 0, '/BM': '/Normal'}},\n",
       "  '/XObject': {'/X7': {'/Type': '/XObject',\n",
       "    '/Subtype': '/Image',\n",
       "    '/Width': 350,\n",
       "    '/Height': 350,\n",
       "    '/ColorSpace': '/DeviceRGB',\n",
       "    '/SMask': {'/Type': '/XObject',\n",
       "     '/Subtype': '/Image',\n",
       "     '/Width': 350,\n",
       "     '/Height': 350,\n",
       "     '/ColorSpace': '/DeviceGray',\n",
       "     '/BitsPerComponent': 8,\n",
       "     '/Filter': '/FlateDecode'},\n",
       "    '/BitsPerComponent': 8,\n",
       "    '/Filter': '/FlateDecode'}},\n",
       "  '/Font': {'/F5': {'/Type': '/Font',\n",
       "    '/Subtype': '/Type0',\n",
       "    '/BaseFont': '/AAAAAA+Lohit-Devanagari',\n",
       "    '/Encoding': '/Identity-H',\n",
       "    '/DescendantFonts': [IndirectObject(3933, 0, 2196419214688)],\n",
       "    '/ToUnicode': {'/Filter': '/FlateDecode'}},\n",
       "   '/F6': {'/Type': '/Font',\n",
       "    '/Subtype': '/Type0',\n",
       "    '/BaseFont': '/BAAAAA+Mallanna',\n",
       "    '/Encoding': '/Identity-H',\n",
       "    '/DescendantFonts': [IndirectObject(3937, 0, 2196419214688)],\n",
       "    '/ToUnicode': {'/Filter': '/FlateDecode'}},\n",
       "   '/F9': {'/Type': '/Font',\n",
       "    '/Subtype': '/Type0',\n",
       "    '/BaseFont': '/CAAAAA+Lohit-Devanagari',\n",
       "    '/Encoding': '/Identity-H',\n",
       "    '/DescendantFonts': [IndirectObject(3941, 0, 2196419214688)],\n",
       "    '/ToUnicode': {'/Filter': '/FlateDecode'}}}},\n",
       " '/MediaBox': [0, 0, 594.95996, 841.91998],\n",
       " '/Contents': {'/Filter': '/FlateDecode'},\n",
       " '/StructParents': 0,\n",
       " '/Parent': {'/Type': '/Pages',\n",
       "  '/Count': 8,\n",
       "  '/Kids': [IndirectObject(2, 0, 2196419214688),\n",
       "   IndirectObject(11, 0, 2196419214688),\n",
       "   IndirectObject(13, 0, 2196419214688),\n",
       "   IndirectObject(15, 0, 2196419214688),\n",
       "   IndirectObject(17, 0, 2196419214688),\n",
       "   IndirectObject(19, 0, 2196419214688),\n",
       "   IndirectObject(21, 0, 2196419214688),\n",
       "   IndirectObject(23, 0, 2196419214688)],\n",
       "  '/Parent': {'/Type': '/Pages',\n",
       "   '/Count': 38,\n",
       "   '/Kids': [IndirectObject(86, 0, 2196419214688),\n",
       "    IndirectObject(87, 0, 2196419214688),\n",
       "    IndirectObject(88, 0, 2196419214688),\n",
       "    IndirectObject(89, 0, 2196419214688),\n",
       "    IndirectObject(90, 0, 2196419214688)]}}}"
      ]
     },
     "execution_count": 17,
     "metadata": {},
     "output_type": "execute_result"
    }
   ],
   "source": [
    "pageObj"
   ]
  },
  {
   "cell_type": "code",
   "execution_count": 18,
   "id": "1692a268",
   "metadata": {},
   "outputs": [
    {
     "name": "stdout",
     "output_type": "stream",
     "text": [
      "ओ ं \u0000 ी  स ा \u0000 य  \u0000 य ो \u0000 त ष  ि व \u0000 ा प ी ठ म ्  \n",
      "Vedic Horoscope\n",
      " \n",
      " \n",
      "ज न न ी  ज \u0000 म  स ौ \u0000 य ा न ा ं , व ध \u0000 न ी  क ु ल  स ंप द ा ं  |\n",
      "प द व ी  प ूव \u0000  प ु\u0000 य ा न ा ं , \u0000 ल \u0000 य त े  ज \u0000 म प ि \u0000 क ा  ||\n",
      "Birth Details\n",
      "Name Taylor\n",
      "Gender Female\n",
      "Date of Birth 9/3/2000\n",
      "Time of Birth 9:20\n",
      "Place of Birth Western District, , Western District\n",
      "Latitude -14.3166700: S\n",
      "Longitude -170.7666700 W\n",
      "Timezone -11 W\n"
     ]
    }
   ],
   "source": [
    "print(pageObj.extractText()) "
   ]
  },
  {
   "cell_type": "code",
   "execution_count": 88,
   "id": "4cbbae9e",
   "metadata": {},
   "outputs": [
    {
     "data": {
      "text/plain": [
       "'ओ ं \\x00 ी  स ा \\x00 य  \\x00 य ो \\x00 त ष  ि व \\x00 ा प ी ठ म ्  \\nVedic Horoscope\\n \\n \\nज न न ी  ज \\x00 म  स ौ \\x00 य ा न ा ं , व ध \\x00 न ी  क ु ल  स ंप द ा ं  |\\nप द व ी  प ूव \\x00  प ु\\x00 य ा न ा ं , \\x00 ल \\x00 य त े  ज \\x00 म प ि \\x00 क ा  ||\\nBirth Details\\nName Taylor\\nGender Female\\nDate of Birth 9/3/2000\\nTime of Birth 9:20\\nPlace of Birth Western District, , Western District\\nLatitude -14.3166700: S\\nLongitude -170.7666700 W\\nTimezone -11 W'"
      ]
     },
     "execution_count": 88,
     "metadata": {},
     "output_type": "execute_result"
    }
   ],
   "source": [
    "data = pageObj.extractText()\n",
    "data"
   ]
  },
  {
   "cell_type": "code",
   "execution_count": 20,
   "id": "63b8ba86",
   "metadata": {},
   "outputs": [],
   "source": [
    "import re"
   ]
  },
  {
   "cell_type": "code",
   "execution_count": 89,
   "id": "1d98646d",
   "metadata": {},
   "outputs": [
    {
     "data": {
      "text/plain": [
       "'                                                   Vedic Horoscope                                                                                                                                          Birth Details Name Taylor Gender Female Date of Birth 9 3 2000 Time of Birth 9 20 Place of Birth Western District    Western District Latitude  14 3166700  S Longitude  170 7666700 W Timezone  11 W'"
      ]
     },
     "execution_count": 89,
     "metadata": {},
     "output_type": "execute_result"
    }
   ],
   "source": [
    "Eng_Data=re.sub(\"[^A-Za-z0-9 ]\",\" \",data)\n",
    "Eng_Data"
   ]
  },
  {
   "cell_type": "code",
   "execution_count": 90,
   "id": "de0cf046",
   "metadata": {},
   "outputs": [
    {
     "data": {
      "text/plain": [
       "'Vedic Horoscope                                                                                                                                          Birth Details Name Taylor Gender Female Date of Birth 9 3 2000 Time of Birth 9 20 Place of Birth Western District    Western District Latitude  14 3166700  S Longitude  170 7666700 W Timezone  11 W'"
      ]
     },
     "execution_count": 90,
     "metadata": {},
     "output_type": "execute_result"
    }
   ],
   "source": [
    "Eng_Data=Eng_Data.strip(\" \")\n",
    "Eng_Data"
   ]
  },
  {
   "cell_type": "code",
   "execution_count": 91,
   "id": "124dd06c",
   "metadata": {},
   "outputs": [],
   "source": [
    "l = [i for i in Eng_Data.split(\" \") if i.isalnum()]"
   ]
  },
  {
   "cell_type": "code",
   "execution_count": 92,
   "id": "063bcd3d",
   "metadata": {},
   "outputs": [],
   "source": [
    "# l=[]\n",
    "# for i in Eng_Data.split(\" \"):\n",
    "#     if i.isalnum():\n",
    "#         l.append(i)\n",
    "#     else:\n",
    "#         pass\n",
    "    "
   ]
  },
  {
   "cell_type": "code",
   "execution_count": 93,
   "id": "1288a6fa",
   "metadata": {},
   "outputs": [],
   "source": [
    "r1 = ['Vedic','Horoscope','Birth','Details','Name','Gender','Date','of','Time','Place','District','Latitude','Longitude','Timezone','W','S']"
   ]
  },
  {
   "cell_type": "code",
   "execution_count": 94,
   "id": "27865657",
   "metadata": {},
   "outputs": [
    {
     "data": {
      "text/plain": [
       "['Taylor',\n",
       " 'Female',\n",
       " '9',\n",
       " '3',\n",
       " '2000',\n",
       " '9',\n",
       " '20',\n",
       " 'Western',\n",
       " 'Western',\n",
       " '14',\n",
       " '3166700',\n",
       " '170',\n",
       " '7666700',\n",
       " '11']"
      ]
     },
     "execution_count": 94,
     "metadata": {},
     "output_type": "execute_result"
    }
   ],
   "source": [
    "data1=[i for i in l if i not in r1]\n",
    "data1"
   ]
  },
  {
   "cell_type": "code",
   "execution_count": 95,
   "id": "be84e39b",
   "metadata": {},
   "outputs": [],
   "source": [
    "l=[\"Name\",\"Gender\",\"DOB\",\"Location\"]"
   ]
  },
  {
   "cell_type": "markdown",
   "id": "c97f9db6",
   "metadata": {},
   "source": [
    "Name"
   ]
  },
  {
   "cell_type": "code",
   "execution_count": 117,
   "id": "54d47a1d",
   "metadata": {},
   "outputs": [
    {
     "data": {
      "text/plain": [
       "'Taylor'"
      ]
     },
     "execution_count": 117,
     "metadata": {},
     "output_type": "execute_result"
    }
   ],
   "source": [
    "name=data1[0]\n",
    "name"
   ]
  },
  {
   "cell_type": "markdown",
   "id": "502493bf",
   "metadata": {},
   "source": [
    "Gender"
   ]
  },
  {
   "cell_type": "code",
   "execution_count": 116,
   "id": "61d68eac",
   "metadata": {},
   "outputs": [
    {
     "data": {
      "text/plain": [
       "'Female'"
      ]
     },
     "execution_count": 116,
     "metadata": {},
     "output_type": "execute_result"
    }
   ],
   "source": [
    "gender =data1[1]\n",
    "gender"
   ]
  },
  {
   "cell_type": "markdown",
   "id": "bb9e605d",
   "metadata": {},
   "source": [
    "DOB"
   ]
  },
  {
   "cell_type": "code",
   "execution_count": 115,
   "id": "e8265b30",
   "metadata": {},
   "outputs": [
    {
     "data": {
      "text/plain": [
       "'9-3-2000'"
      ]
     },
     "execution_count": 115,
     "metadata": {},
     "output_type": "execute_result"
    }
   ],
   "source": [
    "dob=data1[2]+\"-\"+data1[3]+\"-\"+data1[4]\n",
    "dob"
   ]
  },
  {
   "cell_type": "markdown",
   "id": "4bb2b564",
   "metadata": {},
   "source": [
    "Time"
   ]
  },
  {
   "cell_type": "code",
   "execution_count": 118,
   "id": "6b997c93",
   "metadata": {},
   "outputs": [
    {
     "data": {
      "text/plain": [
       "'9.20'"
      ]
     },
     "execution_count": 118,
     "metadata": {},
     "output_type": "execute_result"
    }
   ],
   "source": [
    "time=data1[5]+\".\"+data1[6]\n",
    "time"
   ]
  },
  {
   "cell_type": "markdown",
   "id": "2203e251",
   "metadata": {},
   "source": [
    "Location"
   ]
  },
  {
   "cell_type": "code",
   "execution_count": 119,
   "id": "baacf901",
   "metadata": {},
   "outputs": [
    {
     "data": {
      "text/plain": [
       "'Western-Western-14-3166700-170-7666700-11'"
      ]
     },
     "execution_count": 119,
     "metadata": {},
     "output_type": "execute_result"
    }
   ],
   "source": [
    "location=data1[7]+\"-\"+data1[8]+\"-\"+data1[9]+\"-\"+data1[10]+\"-\"+data1[11]+\"-\"+data1[12]+\"-\"+data1[13]\n",
    "location"
   ]
  },
  {
   "cell_type": "code",
   "execution_count": 128,
   "id": "00509e03",
   "metadata": {},
   "outputs": [
    {
     "data": {
      "text/plain": [
       "[['Taylor',\n",
       "  'Female',\n",
       "  '9-3-2000',\n",
       "  '9.20',\n",
       "  'Western-Western-14-3166700-170-7666700-11']]"
      ]
     },
     "execution_count": 128,
     "metadata": {},
     "output_type": "execute_result"
    }
   ],
   "source": [
    "values=[[name,gender,dob,time,location]]\n",
    "values"
   ]
  },
  {
   "cell_type": "code",
   "execution_count": 124,
   "id": "e7968236",
   "metadata": {},
   "outputs": [],
   "source": [
    "columns=[\"Name\",\"Gender\",\"DOB\",\"Time\",\"Location\"]"
   ]
  },
  {
   "cell_type": "code",
   "execution_count": 126,
   "id": "fe37a583",
   "metadata": {},
   "outputs": [],
   "source": []
  },
  {
   "cell_type": "code",
   "execution_count": 130,
   "id": "fc58eb57",
   "metadata": {},
   "outputs": [
    {
     "data": {
      "text/html": [
       "<div>\n",
       "<style scoped>\n",
       "    .dataframe tbody tr th:only-of-type {\n",
       "        vertical-align: middle;\n",
       "    }\n",
       "\n",
       "    .dataframe tbody tr th {\n",
       "        vertical-align: top;\n",
       "    }\n",
       "\n",
       "    .dataframe thead th {\n",
       "        text-align: right;\n",
       "    }\n",
       "</style>\n",
       "<table border=\"1\" class=\"dataframe\">\n",
       "  <thead>\n",
       "    <tr style=\"text-align: right;\">\n",
       "      <th></th>\n",
       "      <th>Name</th>\n",
       "      <th>Gender</th>\n",
       "      <th>DOB</th>\n",
       "      <th>Time</th>\n",
       "      <th>Location</th>\n",
       "    </tr>\n",
       "  </thead>\n",
       "  <tbody>\n",
       "    <tr>\n",
       "      <th>0</th>\n",
       "      <td>Taylor</td>\n",
       "      <td>Female</td>\n",
       "      <td>9-3-2000</td>\n",
       "      <td>9.20</td>\n",
       "      <td>Western-Western-14-3166700-170-7666700-11</td>\n",
       "    </tr>\n",
       "  </tbody>\n",
       "</table>\n",
       "</div>"
      ],
      "text/plain": [
       "     Name  Gender       DOB  Time                                   Location\n",
       "0  Taylor  Female  9-3-2000  9.20  Western-Western-14-3166700-170-7666700-11"
      ]
     },
     "execution_count": 130,
     "metadata": {},
     "output_type": "execute_result"
    }
   ],
   "source": [
    "df=pd.DataFrame(values,columns=columns)\n",
    "df"
   ]
  },
  {
   "cell_type": "code",
   "execution_count": 131,
   "id": "43bb3ca3",
   "metadata": {},
   "outputs": [
    {
     "name": "stdout",
     "output_type": "stream",
     "text": [
      "Enter the path To store loactionC:\\Users\\tswar\\Excel\n"
     ]
    }
   ],
   "source": [
    "x = input(\"Enter the path To store loaction\")"
   ]
  },
  {
   "cell_type": "code",
   "execution_count": 132,
   "id": "5c9181b2",
   "metadata": {},
   "outputs": [],
   "source": [
    "os.chdir(x)"
   ]
  },
  {
   "cell_type": "code",
   "execution_count": 133,
   "id": "a9546c15",
   "metadata": {},
   "outputs": [
    {
     "data": {
      "text/plain": [
       "'C:\\\\Users\\\\tswar\\\\Excel'"
      ]
     },
     "execution_count": 133,
     "metadata": {},
     "output_type": "execute_result"
    }
   ],
   "source": [
    "pwd"
   ]
  },
  {
   "cell_type": "code",
   "execution_count": 134,
   "id": "855d6057",
   "metadata": {},
   "outputs": [],
   "source": [
    "df.to_csv(\"File.csv\",index=False)"
   ]
  },
  {
   "cell_type": "code",
   "execution_count": 135,
   "id": "41992297",
   "metadata": {},
   "outputs": [
    {
     "name": "stdout",
     "output_type": "stream",
     "text": [
      " Volume in drive C has no label.\n",
      " Volume Serial Number is A007-E621\n",
      "\n",
      " Directory of C:\\Users\\tswar\\Excel\n",
      "\n",
      "10/16/2022  10:54 AM    <DIR>          .\n",
      "10/16/2022  10:54 AM    <DIR>          ..\n",
      "10/16/2022  10:54 AM               102 File.csv\n",
      "               1 File(s)            102 bytes\n",
      "               2 Dir(s)  95,830,269,952 bytes free\n"
     ]
    }
   ],
   "source": [
    "ls"
   ]
  },
  {
   "cell_type": "code",
   "execution_count": null,
   "id": "f598be2c",
   "metadata": {},
   "outputs": [],
   "source": []
  },
  {
   "cell_type": "markdown",
   "id": "c109b5fb",
   "metadata": {},
   "source": [
    "------------------------------------------------------------------"
   ]
  },
  {
   "cell_type": "code",
   "execution_count": 1,
   "id": "9243fd5e",
   "metadata": {},
   "outputs": [],
   "source": [
    "import pandas as pd"
   ]
  },
  {
   "cell_type": "code",
   "execution_count": 2,
   "id": "821e2cca",
   "metadata": {},
   "outputs": [],
   "source": [
    "col = [\"Name\",\"Gender\",\"Date\",\"Month\",\"Year\",\"Hour\",\"Minute\",\"Country\",\"City\"]"
   ]
  },
  {
   "cell_type": "code",
   "execution_count": 3,
   "id": "72c6a2f1",
   "metadata": {},
   "outputs": [],
   "source": [
    "values=[[\"Teja\",\"M\",9,\"December\",1996,\"09(7 AM)\",30,\"India\",\"Cuddapah, Cuddapah, Andhra Pradesh\"],\n",
    "        [\"Taylor\",\"F\",13,\"December\",1989,\"06(10 AM)\",10,\"Austria\",\"Hypolz, Politischer Bezirk Zwettl, Lower Austria\"],\n",
    "       [\"Alex\",\"M\",1,\"January\",2000,\"18(06 PM)\",11,\"Bhutan\",\"Chapchha, , Chukha\"]]"
   ]
  },
  {
   "cell_type": "code",
   "execution_count": 5,
   "id": "ece64dec",
   "metadata": {},
   "outputs": [
    {
     "data": {
      "text/html": [
       "<div>\n",
       "<style scoped>\n",
       "    .dataframe tbody tr th:only-of-type {\n",
       "        vertical-align: middle;\n",
       "    }\n",
       "\n",
       "    .dataframe tbody tr th {\n",
       "        vertical-align: top;\n",
       "    }\n",
       "\n",
       "    .dataframe thead th {\n",
       "        text-align: right;\n",
       "    }\n",
       "</style>\n",
       "<table border=\"1\" class=\"dataframe\">\n",
       "  <thead>\n",
       "    <tr style=\"text-align: right;\">\n",
       "      <th></th>\n",
       "      <th>Name</th>\n",
       "      <th>Gender</th>\n",
       "      <th>Date</th>\n",
       "      <th>Month</th>\n",
       "      <th>Year</th>\n",
       "      <th>Hour</th>\n",
       "      <th>Minute</th>\n",
       "      <th>Country</th>\n",
       "      <th>City</th>\n",
       "    </tr>\n",
       "  </thead>\n",
       "  <tbody>\n",
       "    <tr>\n",
       "      <th>0</th>\n",
       "      <td>Teja</td>\n",
       "      <td>M</td>\n",
       "      <td>9</td>\n",
       "      <td>December</td>\n",
       "      <td>1996</td>\n",
       "      <td>09(7 AM)</td>\n",
       "      <td>30</td>\n",
       "      <td>India</td>\n",
       "      <td>Cuddapah, Cuddapah, Andhra Pradesh</td>\n",
       "    </tr>\n",
       "    <tr>\n",
       "      <th>1</th>\n",
       "      <td>Taylor</td>\n",
       "      <td>F</td>\n",
       "      <td>13</td>\n",
       "      <td>December</td>\n",
       "      <td>1989</td>\n",
       "      <td>06(10 AM)</td>\n",
       "      <td>10</td>\n",
       "      <td>Austria</td>\n",
       "      <td>Hypolz, Politischer Bezirk Zwettl, Lower Austria</td>\n",
       "    </tr>\n",
       "    <tr>\n",
       "      <th>2</th>\n",
       "      <td>Alex</td>\n",
       "      <td>M</td>\n",
       "      <td>1</td>\n",
       "      <td>January</td>\n",
       "      <td>2000</td>\n",
       "      <td>18(06 PM)</td>\n",
       "      <td>11</td>\n",
       "      <td>Bhutan</td>\n",
       "      <td>Chapchha, , Chukha</td>\n",
       "    </tr>\n",
       "  </tbody>\n",
       "</table>\n",
       "</div>"
      ],
      "text/plain": [
       "     Name Gender  Date     Month  Year       Hour  Minute  Country  \\\n",
       "0    Teja      M     9  December  1996   09(7 AM)      30    India   \n",
       "1  Taylor      F    13  December  1989  06(10 AM)      10  Austria   \n",
       "2    Alex      M     1   January  2000  18(06 PM)      11   Bhutan   \n",
       "\n",
       "                                               City  \n",
       "0                Cuddapah, Cuddapah, Andhra Pradesh  \n",
       "1  Hypolz, Politischer Bezirk Zwettl, Lower Austria  \n",
       "2                                Chapchha, , Chukha  "
      ]
     },
     "execution_count": 5,
     "metadata": {},
     "output_type": "execute_result"
    }
   ],
   "source": [
    "df=pd.DataFrame(values,columns=col)\n",
    "df"
   ]
  },
  {
   "cell_type": "code",
   "execution_count": 6,
   "id": "41f3ba4e",
   "metadata": {},
   "outputs": [],
   "source": [
    "df.to_csv(\"input.csv\",index=False)"
   ]
  },
  {
   "cell_type": "code",
   "execution_count": 7,
   "id": "16068bdf",
   "metadata": {},
   "outputs": [
    {
     "name": "stdout",
     "output_type": "stream",
     "text": [
      " Volume in drive C has no label.\n",
      " Volume Serial Number is A007-E621\n",
      "\n",
      " Directory of C:\\Users\\tswar\\Web_Automa\n",
      "\n",
      "10/16/2022  11:35 AM    <DIR>          .\n",
      "10/16/2022  11:35 AM    <DIR>          ..\n",
      "10/16/2022  11:04 AM    <DIR>          .ipynb_checkpoints\n",
      "10/16/2022  11:35 AM               296 input.csv\n",
      "10/15/2022  10:13 AM               321 Untitled.ipynb\n",
      "10/15/2022  10:45 AM             1,870 Untitled1.ipynb\n",
      "10/15/2022  01:51 PM                72 Untitled2.ipynb\n",
      "10/16/2022  11:27 AM            50,472 Untitled3.ipynb\n",
      "10/15/2022  07:10 PM             7,082 Untitled3-Copy1.ipynb\n",
      "10/16/2022  09:22 AM            11,183 Untitled3-Copy2.ipynb\n",
      "10/16/2022  11:32 AM            51,442 Untitled3-Copy3.ipynb\n",
      "10/15/2022  10:23 AM            14,931 Web_Scrapping.ipynb\n",
      "               9 File(s)        137,669 bytes\n",
      "               3 Dir(s)  96,117,964,800 bytes free\n"
     ]
    }
   ],
   "source": [
    "ls"
   ]
  },
  {
   "cell_type": "code",
   "execution_count": 8,
   "id": "2d044ba0",
   "metadata": {},
   "outputs": [
    {
     "data": {
      "text/html": [
       "<div>\n",
       "<style scoped>\n",
       "    .dataframe tbody tr th:only-of-type {\n",
       "        vertical-align: middle;\n",
       "    }\n",
       "\n",
       "    .dataframe tbody tr th {\n",
       "        vertical-align: top;\n",
       "    }\n",
       "\n",
       "    .dataframe thead th {\n",
       "        text-align: right;\n",
       "    }\n",
       "</style>\n",
       "<table border=\"1\" class=\"dataframe\">\n",
       "  <thead>\n",
       "    <tr style=\"text-align: right;\">\n",
       "      <th></th>\n",
       "      <th>Name</th>\n",
       "      <th>Gender</th>\n",
       "      <th>Date</th>\n",
       "      <th>Month</th>\n",
       "      <th>Year</th>\n",
       "      <th>Hour</th>\n",
       "      <th>Minute</th>\n",
       "      <th>Country</th>\n",
       "      <th>City</th>\n",
       "    </tr>\n",
       "  </thead>\n",
       "  <tbody>\n",
       "    <tr>\n",
       "      <th>0</th>\n",
       "      <td>Teja</td>\n",
       "      <td>M</td>\n",
       "      <td>9</td>\n",
       "      <td>December</td>\n",
       "      <td>1996</td>\n",
       "      <td>09(7 AM)</td>\n",
       "      <td>30</td>\n",
       "      <td>India</td>\n",
       "      <td>Cuddapah, Cuddapah, Andhra Pradesh</td>\n",
       "    </tr>\n",
       "    <tr>\n",
       "      <th>1</th>\n",
       "      <td>Taylor</td>\n",
       "      <td>F</td>\n",
       "      <td>13</td>\n",
       "      <td>December</td>\n",
       "      <td>1989</td>\n",
       "      <td>06(10 AM)</td>\n",
       "      <td>10</td>\n",
       "      <td>Austria</td>\n",
       "      <td>Hypolz, Politischer Bezirk Zwettl, Lower Austria</td>\n",
       "    </tr>\n",
       "    <tr>\n",
       "      <th>2</th>\n",
       "      <td>Alex</td>\n",
       "      <td>M</td>\n",
       "      <td>1</td>\n",
       "      <td>January</td>\n",
       "      <td>2000</td>\n",
       "      <td>18(06 PM)</td>\n",
       "      <td>11</td>\n",
       "      <td>Bhutan</td>\n",
       "      <td>Chapchha, , Chukha</td>\n",
       "    </tr>\n",
       "  </tbody>\n",
       "</table>\n",
       "</div>"
      ],
      "text/plain": [
       "     Name Gender  Date     Month  Year       Hour  Minute  Country  \\\n",
       "0    Teja      M     9  December  1996   09(7 AM)      30    India   \n",
       "1  Taylor      F    13  December  1989  06(10 AM)      10  Austria   \n",
       "2    Alex      M     1   January  2000  18(06 PM)      11   Bhutan   \n",
       "\n",
       "                                               City  \n",
       "0                Cuddapah, Cuddapah, Andhra Pradesh  \n",
       "1  Hypolz, Politischer Bezirk Zwettl, Lower Austria  \n",
       "2                                Chapchha, , Chukha  "
      ]
     },
     "execution_count": 8,
     "metadata": {},
     "output_type": "execute_result"
    }
   ],
   "source": [
    "df = pd.read_csv(\"input.csv\")\n",
    "df"
   ]
  },
  {
   "cell_type": "code",
   "execution_count": 33,
   "id": "0144c5b3",
   "metadata": {},
   "outputs": [],
   "source": [
    "def dataframe(sen):\n",
    "    print(len(sen))\n",
    "    print(sen[1])"
   ]
  },
  {
   "cell_type": "code",
   "execution_count": 34,
   "id": "4eea3561",
   "metadata": {},
   "outputs": [
    {
     "name": "stdout",
     "output_type": "stream",
     "text": [
      "9\n",
      "F\n"
     ]
    }
   ],
   "source": [
    "dataframe(df.iloc[1])"
   ]
  },
  {
   "cell_type": "code",
   "execution_count": 32,
   "id": "a83ecba1",
   "metadata": {},
   "outputs": [
    {
     "name": "stdout",
     "output_type": "stream",
     "text": [
      "0\n",
      "1\n",
      "2\n"
     ]
    }
   ],
   "source": [
    "for i in range(len(df)):\n",
    "    print(i)"
   ]
  },
  {
   "cell_type": "code",
   "execution_count": 31,
   "id": "3ebaf4e9",
   "metadata": {},
   "outputs": [
    {
     "data": {
      "text/plain": [
       "3"
      ]
     },
     "execution_count": 31,
     "metadata": {},
     "output_type": "execute_result"
    }
   ],
   "source": [
    "len(df)"
   ]
  },
  {
   "cell_type": "code",
   "execution_count": 35,
   "id": "de0d818f",
   "metadata": {},
   "outputs": [
    {
     "data": {
      "text/plain": [
       "'C:\\\\Users\\\\tswar\\\\Web_Automa'"
      ]
     },
     "execution_count": 35,
     "metadata": {},
     "output_type": "execute_result"
    }
   ],
   "source": [
    "pwd"
   ]
  },
  {
   "cell_type": "code",
   "execution_count": 36,
   "id": "f99248e2",
   "metadata": {},
   "outputs": [
    {
     "name": "stdout",
     "output_type": "stream",
     "text": [
      " Volume in drive C has no label.\n",
      " Volume Serial Number is A007-E621\n",
      "\n",
      " Directory of C:\\Users\\tswar\\Web_Automa\n",
      "\n",
      "10/16/2022  11:55 AM    <DIR>          .\n",
      "10/16/2022  11:55 AM    <DIR>          ..\n",
      "10/16/2022  11:04 AM    <DIR>          .ipynb_checkpoints\n",
      "10/16/2022  11:35 AM               296 input.csv\n",
      "10/15/2022  10:13 AM               321 Untitled.ipynb\n",
      "10/15/2022  10:45 AM             1,870 Untitled1.ipynb\n",
      "10/15/2022  01:51 PM                72 Untitled2.ipynb\n",
      "10/16/2022  11:55 AM            52,420 Untitled3.ipynb\n",
      "10/15/2022  07:10 PM             7,082 Untitled3-Copy1.ipynb\n",
      "10/16/2022  09:22 AM            11,183 Untitled3-Copy2.ipynb\n",
      "10/16/2022  11:55 AM            60,842 Untitled3-Copy3.ipynb\n",
      "10/15/2022  10:23 AM            14,931 Web_Scrapping.ipynb\n",
      "               9 File(s)        149,017 bytes\n",
      "               3 Dir(s)  96,112,472,064 bytes free\n"
     ]
    }
   ],
   "source": [
    "ls"
   ]
  },
  {
   "cell_type": "code",
   "execution_count": null,
   "id": "0fb55814",
   "metadata": {},
   "outputs": [],
   "source": []
  }
 ],
 "metadata": {
  "kernelspec": {
   "display_name": "Python 3 (ipykernel)",
   "language": "python",
   "name": "python3"
  },
  "language_info": {
   "codemirror_mode": {
    "name": "ipython",
    "version": 3
   },
   "file_extension": ".py",
   "mimetype": "text/x-python",
   "name": "python",
   "nbconvert_exporter": "python",
   "pygments_lexer": "ipython3",
   "version": "3.9.12"
  }
 },
 "nbformat": 4,
 "nbformat_minor": 5
}
