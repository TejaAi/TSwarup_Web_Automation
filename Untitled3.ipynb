{
 "cells": [
  {
   "cell_type": "code",
   "execution_count": 1,
   "id": "2f9c9451",
   "metadata": {},
   "outputs": [],
   "source": [
    "import os\n",
    "import time\n",
    "import selenium\n",
    "import warnings\n",
    "warnings.filterwarnings('ignore')\n",
    "import pandas as pd"
   ]
  },
  {
   "cell_type": "code",
   "execution_count": 2,
   "id": "f85e470b",
   "metadata": {},
   "outputs": [],
   "source": [
    "from selenium import webdriver"
   ]
  },
  {
   "cell_type": "code",
   "execution_count": 3,
   "id": "e9972968",
   "metadata": {},
   "outputs": [],
   "source": [
    "from selenium.webdriver.support.ui import WebDriverWait    "
   ]
  },
  {
   "cell_type": "code",
   "execution_count": 4,
   "id": "f9a74f43",
   "metadata": {},
   "outputs": [],
   "source": [
    "from selenium.webdriver.common.by import By"
   ]
  },
  {
   "cell_type": "code",
   "execution_count": 5,
   "id": "d5f8e7bc",
   "metadata": {},
   "outputs": [],
   "source": [
    "chromeOptions = webdriver.ChromeOptions()\n",
    "prefs = {\"plugins.always_open_pdf_externally\":True,\"download.default_directory\":r\"C:\\Users\\tswar\\Testing_UI\\PDf_Files\"}\n",
    "chromeOptions.add_experimental_option(\"prefs\",prefs)\n",
    "# chromeOptions.headless = True\n",
    "chromeOptions.add_argument(\"--disable-notifications\")\n",
    "chromedriver = \"C:\\Program Files (x86)\\Google\\Chrome\\Application\\chromedriver.exe\"\n",
    "browser = webdriver.Chrome(executable_path=chromedriver, chrome_options=chromeOptions)\n",
    "browser.maximize_window()"
   ]
  },
  {
   "cell_type": "code",
   "execution_count": 6,
   "id": "b73ed99f",
   "metadata": {},
   "outputs": [],
   "source": [
    "browser.get(\"https://www.onlinejyotish.com/horo/\")"
   ]
  },
  {
   "cell_type": "code",
   "execution_count": 7,
   "id": "afc8b124",
   "metadata": {},
   "outputs": [],
   "source": [
    "A1 = \"Aler\"\n",
    "A2 = \"F\"\n",
    "A3 = 19\n",
    "A4 = \"March\"\n",
    "A5 = 2000\n",
    "A6 = \"09(7 AM)\"\n",
    "A7 = 20\n",
    "A8 = \"American Samoa\"\n",
    "A9 =\"Anasosopo\"\n",
    "A10 =\"thejaswaroop1996@gmail.com\""
   ]
  },
  {
   "cell_type": "code",
   "execution_count": 8,
   "id": "3e0ac63e",
   "metadata": {},
   "outputs": [],
   "source": [
    "Name = browser.find_element(By.ID,'name')"
   ]
  },
  {
   "cell_type": "code",
   "execution_count": 9,
   "id": "b7719bfb",
   "metadata": {},
   "outputs": [],
   "source": [
    "Name.send_keys(A1)"
   ]
  },
  {
   "cell_type": "code",
   "execution_count": 10,
   "id": "7c6178dd",
   "metadata": {},
   "outputs": [],
   "source": [
    "Sex = browser.find_element(By.ID,'sex')"
   ]
  },
  {
   "cell_type": "code",
   "execution_count": 11,
   "id": "fc6d59f7",
   "metadata": {},
   "outputs": [],
   "source": [
    "Sex.send_keys(A2)"
   ]
  },
  {
   "cell_type": "code",
   "execution_count": 12,
   "id": "44628bc6",
   "metadata": {},
   "outputs": [],
   "source": [
    "Day = browser.find_element(By.ID,'day')"
   ]
  },
  {
   "cell_type": "code",
   "execution_count": 13,
   "id": "4a68911a",
   "metadata": {},
   "outputs": [],
   "source": [
    "Day.send_keys(A3)"
   ]
  },
  {
   "cell_type": "code",
   "execution_count": 14,
   "id": "cf4faceb",
   "metadata": {},
   "outputs": [],
   "source": [
    "Month = browser.find_element(By.ID,'month')"
   ]
  },
  {
   "cell_type": "code",
   "execution_count": 15,
   "id": "cb4115d9",
   "metadata": {},
   "outputs": [],
   "source": [
    "Month.send_keys(A4)"
   ]
  },
  {
   "cell_type": "code",
   "execution_count": 16,
   "id": "fa784f77",
   "metadata": {},
   "outputs": [],
   "source": [
    "Year = browser.find_element(By.ID,'year')"
   ]
  },
  {
   "cell_type": "code",
   "execution_count": 17,
   "id": "2fbfe622",
   "metadata": {},
   "outputs": [],
   "source": [
    "Year.clear()"
   ]
  },
  {
   "cell_type": "code",
   "execution_count": 18,
   "id": "56aa4441",
   "metadata": {},
   "outputs": [],
   "source": [
    "Year.send_keys(A5)"
   ]
  },
  {
   "cell_type": "code",
   "execution_count": 19,
   "id": "dedee391",
   "metadata": {},
   "outputs": [],
   "source": [
    "Hour = browser.find_element(By.ID,'hour')"
   ]
  },
  {
   "cell_type": "code",
   "execution_count": 20,
   "id": "a1b57f18",
   "metadata": {},
   "outputs": [],
   "source": [
    "Hour.send_keys(A6)"
   ]
  },
  {
   "cell_type": "code",
   "execution_count": 21,
   "id": "6a8ea3a8",
   "metadata": {},
   "outputs": [],
   "source": [
    "Minute = browser.find_element(By.ID,'minute')"
   ]
  },
  {
   "cell_type": "code",
   "execution_count": 22,
   "id": "a7ca433e",
   "metadata": {},
   "outputs": [],
   "source": [
    "Minute.send_keys(A7)"
   ]
  },
  {
   "cell_type": "code",
   "execution_count": 23,
   "id": "a502adf0",
   "metadata": {},
   "outputs": [],
   "source": [
    "Country = browser.find_element(By.ID,'country')"
   ]
  },
  {
   "cell_type": "code",
   "execution_count": 24,
   "id": "96160110",
   "metadata": {},
   "outputs": [],
   "source": [
    "Country.send_keys(A8)"
   ]
  },
  {
   "cell_type": "code",
   "execution_count": 25,
   "id": "596b2de2",
   "metadata": {},
   "outputs": [],
   "source": [
    "City = browser.find_element(By.ID,'city')"
   ]
  },
  {
   "cell_type": "code",
   "execution_count": 26,
   "id": "b6a47a36",
   "metadata": {},
   "outputs": [],
   "source": [
    "City.clear()"
   ]
  },
  {
   "cell_type": "code",
   "execution_count": 27,
   "id": "070b6e65",
   "metadata": {},
   "outputs": [],
   "source": [
    "City.send_keys(A9)"
   ]
  },
  {
   "cell_type": "code",
   "execution_count": 28,
   "id": "a08afd6e",
   "metadata": {},
   "outputs": [],
   "source": [
    "ci=browser.find_elements(By.ID,'livesearch')"
   ]
  },
  {
   "cell_type": "code",
   "execution_count": 29,
   "id": "a9dd8e85",
   "metadata": {},
   "outputs": [],
   "source": [
    "time.sleep(10)"
   ]
  },
  {
   "cell_type": "code",
   "execution_count": 30,
   "id": "ffe05758",
   "metadata": {},
   "outputs": [],
   "source": [
    "ci[0].click()"
   ]
  },
  {
   "cell_type": "code",
   "execution_count": 31,
   "id": "088b03f3",
   "metadata": {},
   "outputs": [],
   "source": [
    "time.sleep(10)"
   ]
  },
  {
   "cell_type": "code",
   "execution_count": 32,
   "id": "93fe456d",
   "metadata": {},
   "outputs": [],
   "source": [
    "Sub = browser.find_element(By.XPATH,\"/html/body/div[2]/div/div/div/div[1]/form/div/div/table/tbody/tr[15]/td/input[4]\")"
   ]
  },
  {
   "cell_type": "code",
   "execution_count": 33,
   "id": "9b7e9ade",
   "metadata": {},
   "outputs": [],
   "source": [
    "time.sleep(5)"
   ]
  },
  {
   "cell_type": "code",
   "execution_count": 34,
   "id": "57fd916f",
   "metadata": {},
   "outputs": [],
   "source": [
    "Sub.click()"
   ]
  },
  {
   "cell_type": "code",
   "execution_count": 35,
   "id": "c0605040",
   "metadata": {},
   "outputs": [],
   "source": [
    "Pd = browser.find_element(By.ID,'btn')"
   ]
  },
  {
   "cell_type": "code",
   "execution_count": 36,
   "id": "0ec7e109",
   "metadata": {},
   "outputs": [],
   "source": [
    "Pd.click()"
   ]
  },
  {
   "cell_type": "code",
   "execution_count": 37,
   "id": "9368b21f",
   "metadata": {},
   "outputs": [],
   "source": [
    "PDF = browser.find_element(By.XPATH,'/html/body/div[2]/div/div/div[1]/a[1]')"
   ]
  },
  {
   "cell_type": "code",
   "execution_count": 38,
   "id": "5d60efc8",
   "metadata": {},
   "outputs": [],
   "source": [
    "PDF.click()"
   ]
  },
  {
   "cell_type": "code",
   "execution_count": 42,
   "id": "4f05be5d",
   "metadata": {},
   "outputs": [
    {
     "data": {
      "text/plain": [
       "<selenium.webdriver.remote.webelement.WebElement (session=\"d08ddafcd045b02f50d6afc9e40e20b5\", element=\"80e52ed5-d8ce-4176-bc20-7d4d14e427f0\")>"
      ]
     },
     "execution_count": 42,
     "metadata": {},
     "output_type": "execute_result"
    }
   ],
   "source": [
    "T1=browser.find_element(By.XPATH,'/html/ins')\n",
    "T1"
   ]
  },
  {
   "cell_type": "code",
   "execution_count": 48,
   "id": "aca199c0",
   "metadata": {},
   "outputs": [
    {
     "data": {
      "text/plain": [
       "<selenium.webdriver.remote.webelement.WebElement (session=\"d08ddafcd045b02f50d6afc9e40e20b5\", element=\"9461cdc0-ea07-4a49-ab51-2ccd0245f4d7\")>"
      ]
     },
     "execution_count": 48,
     "metadata": {},
     "output_type": "execute_result"
    }
   ],
   "source": [
    "T2=T1.find_element(By.XPATH,'//*[@id=\"aswift_5\"]')\n",
    "T2"
   ]
  },
  {
   "cell_type": "code",
   "execution_count": 51,
   "id": "08f37108",
   "metadata": {},
   "outputs": [],
   "source": [
    "browser.switch_to.frame(T2)"
   ]
  },
  {
   "cell_type": "code",
   "execution_count": 55,
   "id": "55956ade",
   "metadata": {},
   "outputs": [
    {
     "data": {
      "text/plain": [
       "<selenium.webdriver.remote.webelement.WebElement (session=\"d08ddafcd045b02f50d6afc9e40e20b5\", element=\"8c7f9946-45af-43bf-8e91-225d8f1db4c0\")>"
      ]
     },
     "execution_count": 55,
     "metadata": {},
     "output_type": "execute_result"
    }
   ],
   "source": [
    "T3=browser.find_element(By.XPATH,'//*[@id=\"ad_iframe\"]')\n",
    "T3"
   ]
  },
  {
   "cell_type": "code",
   "execution_count": 57,
   "id": "be654b51",
   "metadata": {},
   "outputs": [],
   "source": [
    "browser.switch_to.frame(T3)"
   ]
  },
  {
   "cell_type": "code",
   "execution_count": 58,
   "id": "468d8aba",
   "metadata": {},
   "outputs": [
    {
     "data": {
      "text/plain": [
       "<selenium.webdriver.remote.webelement.WebElement (session=\"d08ddafcd045b02f50d6afc9e40e20b5\", element=\"1977df15-9b8a-4fa2-a40b-f32ff4d95358\")>"
      ]
     },
     "execution_count": 58,
     "metadata": {},
     "output_type": "execute_result"
    }
   ],
   "source": [
    "fin = browser.find_element(By.XPATH,'//*[@id=\"dismiss-button\"]')\n",
    "fin"
   ]
  },
  {
   "cell_type": "code",
   "execution_count": 59,
   "id": "a036a2e6",
   "metadata": {},
   "outputs": [
    {
     "data": {
      "text/plain": [
       "'Close'"
      ]
     },
     "execution_count": 59,
     "metadata": {},
     "output_type": "execute_result"
    }
   ],
   "source": [
    "fin.text"
   ]
  },
  {
   "cell_type": "code",
   "execution_count": 61,
   "id": "836130c3",
   "metadata": {},
   "outputs": [],
   "source": [
    "fin.click()"
   ]
  },
  {
   "cell_type": "code",
   "execution_count": null,
   "id": "8760d355",
   "metadata": {},
   "outputs": [],
   "source": [
    "try:\n",
    "    x=browser.find_element(By.XPATH,'/html/ins')\n",
    "    print(\"Ok\")\n",
    "    X1=x.find_element(By.ID,'aswift_6_host')\n",
    "    print(\"Ok2\")\n",
    "    browser.switch_to.frame('aswift_6')\n",
    "    print(\"Ok3\")\n",
    "    X2=browser.find_element(By.ID,'ad_iframe')\n",
    "    print(\"Ok4\")\n",
    "    browser.switch_to.frame(X2)\n",
    "    print(\"Ok5\")\n",
    "    browser.find_element(By.XPATH,'//*[@id=\"dismiss-button\"]').click()\n",
    "except:\n",
    "    pass\n",
    "    "
   ]
  },
  {
   "cell_type": "markdown",
   "id": "558929b1",
   "metadata": {},
   "source": [
    "<h3 style=\"color:green\">PDF Extraction</h3>"
   ]
  },
  {
   "cell_type": "code",
   "execution_count": null,
   "id": "0a2ca30f",
   "metadata": {},
   "outputs": [],
   "source": [
    "print(teja)"
   ]
  },
  {
   "cell_type": "code",
   "execution_count": null,
   "id": "30e74b25",
   "metadata": {},
   "outputs": [],
   "source": [
    "!pip install PyPDF2"
   ]
  },
  {
   "cell_type": "code",
   "execution_count": null,
   "id": "6316b1a8",
   "metadata": {},
   "outputs": [],
   "source": [
    "import PyPDF2"
   ]
  },
  {
   "cell_type": "code",
   "execution_count": null,
   "id": "31c9f1a5",
   "metadata": {},
   "outputs": [],
   "source": [
    "import os"
   ]
  },
  {
   "cell_type": "code",
   "execution_count": null,
   "id": "5b412a1f",
   "metadata": {},
   "outputs": [],
   "source": [
    "os.chdir(r'C:\\Users\\tswar\\Downloads')"
   ]
  },
  {
   "cell_type": "code",
   "execution_count": null,
   "id": "0cd801b4",
   "metadata": {},
   "outputs": [],
   "source": [
    "pwd"
   ]
  },
  {
   "cell_type": "code",
   "execution_count": null,
   "id": "2c2ecb33",
   "metadata": {},
   "outputs": [],
   "source": [
    "ls"
   ]
  },
  {
   "cell_type": "code",
   "execution_count": null,
   "id": "ddb6e14d",
   "metadata": {},
   "outputs": [],
   "source": [
    "Obj = open('onlinejyotish_1665856313.pdf', 'rb') "
   ]
  },
  {
   "cell_type": "code",
   "execution_count": null,
   "id": "6ffb036e",
   "metadata": {},
   "outputs": [],
   "source": [
    "pdfReader = PyPDF2.PdfFileReader(Obj) "
   ]
  },
  {
   "cell_type": "code",
   "execution_count": null,
   "id": "68d3bab2",
   "metadata": {},
   "outputs": [],
   "source": [
    "print(pdfReader.numPages) "
   ]
  },
  {
   "cell_type": "code",
   "execution_count": null,
   "id": "0595154a",
   "metadata": {},
   "outputs": [],
   "source": [
    "pageObj = pdfReader.getPage(0)"
   ]
  },
  {
   "cell_type": "code",
   "execution_count": null,
   "id": "e5cdad36",
   "metadata": {},
   "outputs": [],
   "source": [
    "pageObj"
   ]
  },
  {
   "cell_type": "code",
   "execution_count": null,
   "id": "1692a268",
   "metadata": {},
   "outputs": [],
   "source": [
    "print(pageObj.extractText()) "
   ]
  },
  {
   "cell_type": "code",
   "execution_count": null,
   "id": "4cbbae9e",
   "metadata": {},
   "outputs": [],
   "source": [
    "data = pageObj.extractText()\n",
    "data"
   ]
  },
  {
   "cell_type": "code",
   "execution_count": null,
   "id": "f8e34d44",
   "metadata": {},
   "outputs": [],
   "source": [
    "import re"
   ]
  },
  {
   "cell_type": "code",
   "execution_count": null,
   "id": "1d98646d",
   "metadata": {},
   "outputs": [],
   "source": [
    "Eng_Data=re.sub(\"[^A-Za-z0-9 ]\",\" \",data)\n",
    "Eng_Data"
   ]
  },
  {
   "cell_type": "code",
   "execution_count": null,
   "id": "de0cf046",
   "metadata": {},
   "outputs": [],
   "source": [
    "Eng_Data=Eng_Data.strip(\" \")\n",
    "Eng_Data"
   ]
  },
  {
   "cell_type": "code",
   "execution_count": null,
   "id": "abac35b9",
   "metadata": {},
   "outputs": [],
   "source": [
    "l = [i for i in Eng_Data.split(\" \") if i.isalnum()]"
   ]
  },
  {
   "cell_type": "code",
   "execution_count": null,
   "id": "063bcd3d",
   "metadata": {},
   "outputs": [],
   "source": [
    "# l=[]\n",
    "# for i in Eng_Data.split(\" \"):\n",
    "#     if i.isalnum():\n",
    "#         l.append(i)\n",
    "#     else:\n",
    "#         pass\n",
    "    "
   ]
  },
  {
   "cell_type": "code",
   "execution_count": null,
   "id": "493224bd",
   "metadata": {},
   "outputs": [],
   "source": [
    "r1 = ['Vedic','Horoscope','Birth','Details','Name','Gender','Date','of','Time','Place','District','Latitude','Longitude','Timezone','W','S']"
   ]
  },
  {
   "cell_type": "code",
   "execution_count": null,
   "id": "bcc88001",
   "metadata": {},
   "outputs": [],
   "source": [
    "data1=[i for i in l if i not in r1]\n",
    "data1"
   ]
  },
  {
   "cell_type": "code",
   "execution_count": null,
   "id": "be84e39b",
   "metadata": {},
   "outputs": [],
   "source": [
    "l=[\"Name\",\"Gender\",\"DOB\",\"Location\"]"
   ]
  },
  {
   "cell_type": "markdown",
   "id": "bf9f84c9",
   "metadata": {},
   "source": [
    "Name"
   ]
  },
  {
   "cell_type": "code",
   "execution_count": null,
   "id": "5441d74e",
   "metadata": {},
   "outputs": [],
   "source": [
    "name=data1[0]\n",
    "name"
   ]
  },
  {
   "cell_type": "markdown",
   "id": "3d0bc647",
   "metadata": {},
   "source": [
    "Gender"
   ]
  },
  {
   "cell_type": "code",
   "execution_count": null,
   "id": "c150bb72",
   "metadata": {},
   "outputs": [],
   "source": [
    "gender =data1[1]\n",
    "gender"
   ]
  },
  {
   "cell_type": "markdown",
   "id": "0e86f807",
   "metadata": {},
   "source": [
    "DOB"
   ]
  },
  {
   "cell_type": "code",
   "execution_count": null,
   "id": "e8265b30",
   "metadata": {},
   "outputs": [],
   "source": [
    "dob=data1[2]+\"-\"+data1[3]+\"-\"+data1[4]\n",
    "dob"
   ]
  },
  {
   "cell_type": "markdown",
   "id": "7c66590b",
   "metadata": {},
   "source": [
    "Time"
   ]
  },
  {
   "cell_type": "code",
   "execution_count": null,
   "id": "b09ed266",
   "metadata": {},
   "outputs": [],
   "source": [
    "time=data1[5]+\".\"+data1[6]\n",
    "time"
   ]
  },
  {
   "cell_type": "markdown",
   "id": "e9678d13",
   "metadata": {},
   "source": [
    "Location"
   ]
  },
  {
   "cell_type": "code",
   "execution_count": null,
   "id": "42d887db",
   "metadata": {},
   "outputs": [],
   "source": [
    "location=data1[7]+\"-\"+data1[8]+\"-\"+data1[9]+\"-\"+data1[10]+\"-\"+data1[11]+\"-\"+data1[12]+\"-\"+data1[13]\n",
    "location"
   ]
  },
  {
   "cell_type": "code",
   "execution_count": null,
   "id": "ecdeb43d",
   "metadata": {},
   "outputs": [],
   "source": [
    "values=[[name,gender,dob,time,location]]\n",
    "values"
   ]
  },
  {
   "cell_type": "code",
   "execution_count": null,
   "id": "c3c05682",
   "metadata": {},
   "outputs": [],
   "source": [
    "columns=[\"Name\",\"Gender\",\"DOB\",\"Time\",\"Location\"]"
   ]
  },
  {
   "cell_type": "code",
   "execution_count": null,
   "id": "1682a7ce",
   "metadata": {},
   "outputs": [],
   "source": []
  },
  {
   "cell_type": "code",
   "execution_count": null,
   "id": "f1771422",
   "metadata": {},
   "outputs": [],
   "source": [
    "df=pd.DataFrame(values,columns=columns)\n",
    "df"
   ]
  },
  {
   "cell_type": "code",
   "execution_count": null,
   "id": "1de75b3c",
   "metadata": {},
   "outputs": [],
   "source": [
    "x = input(\"Enter the path To store loaction\")"
   ]
  },
  {
   "cell_type": "code",
   "execution_count": null,
   "id": "3f79b973",
   "metadata": {},
   "outputs": [],
   "source": [
    "os.chdir(x)"
   ]
  },
  {
   "cell_type": "code",
   "execution_count": null,
   "id": "71b7accd",
   "metadata": {},
   "outputs": [],
   "source": [
    "pwd"
   ]
  },
  {
   "cell_type": "code",
   "execution_count": null,
   "id": "87539ce5",
   "metadata": {},
   "outputs": [],
   "source": [
    "df.to_csv(\"File.csv\",index=False)"
   ]
  },
  {
   "cell_type": "code",
   "execution_count": null,
   "id": "ce32874f",
   "metadata": {},
   "outputs": [],
   "source": [
    "ls"
   ]
  },
  {
   "cell_type": "code",
   "execution_count": null,
   "id": "a42dcef5",
   "metadata": {},
   "outputs": [],
   "source": [
    "ls"
   ]
  },
  {
   "cell_type": "code",
   "execution_count": null,
   "id": "7b952657",
   "metadata": {},
   "outputs": [],
   "source": [
    "ls"
   ]
  },
  {
   "cell_type": "code",
   "execution_count": null,
   "id": "d606af2c",
   "metadata": {},
   "outputs": [],
   "source": [
    "x = input(\"Please path\")"
   ]
  },
  {
   "cell_type": "code",
   "execution_count": null,
   "id": "4f5edc7e",
   "metadata": {},
   "outputs": [],
   "source": []
  },
  {
   "cell_type": "code",
   "execution_count": null,
   "id": "dfaea1be",
   "metadata": {},
   "outputs": [],
   "source": []
  },
  {
   "cell_type": "code",
   "execution_count": null,
   "id": "2a7d6f59",
   "metadata": {},
   "outputs": [],
   "source": []
  }
 ],
 "metadata": {
  "kernelspec": {
   "display_name": "Python 3 (ipykernel)",
   "language": "python",
   "name": "python3"
  },
  "language_info": {
   "codemirror_mode": {
    "name": "ipython",
    "version": 3
   },
   "file_extension": ".py",
   "mimetype": "text/x-python",
   "name": "python",
   "nbconvert_exporter": "python",
   "pygments_lexer": "ipython3",
   "version": "3.9.12"
  }
 },
 "nbformat": 4,
 "nbformat_minor": 5
}
