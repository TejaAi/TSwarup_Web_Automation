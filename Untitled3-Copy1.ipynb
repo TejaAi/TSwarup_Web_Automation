{
 "cells": [
  {
   "cell_type": "code",
   "execution_count": 1,
   "id": "2f9c9451",
   "metadata": {},
   "outputs": [],
   "source": [
    "import os\n",
    "import time\n",
    "import selenium\n",
    "import warnings\n",
    "warnings.filterwarnings('ignore')"
   ]
  },
  {
   "cell_type": "code",
   "execution_count": 3,
   "id": "f85e470b",
   "metadata": {},
   "outputs": [],
   "source": [
    "from selenium import webdriver as wb"
   ]
  },
  {
   "cell_type": "code",
   "execution_count": 4,
   "id": "e9972968",
   "metadata": {},
   "outputs": [],
   "source": [
    "from selenium.webdriver.support.ui import WebDriverWait       "
   ]
  },
  {
   "cell_type": "code",
   "execution_count": 5,
   "id": "f9a74f43",
   "metadata": {},
   "outputs": [],
   "source": [
    "from selenium.webdriver.common.by import By"
   ]
  },
  {
   "cell_type": "code",
   "execution_count": 6,
   "id": "21babd2b",
   "metadata": {},
   "outputs": [],
   "source": [
    "browser = wb.Chrome(\"C:\\Program Files (x86)\\Google\\Chrome\\Application\\chromedriver.exe\", options= o)"
   ]
  },
  {
   "cell_type": "code",
   "execution_count": 7,
   "id": "b73ed99f",
   "metadata": {},
   "outputs": [],
   "source": [
    "browser.get(\"https://www.onlinejyotish.com/horo/\")"
   ]
  },
  {
   "cell_type": "code",
   "execution_count": 8,
   "id": "afc8b124",
   "metadata": {},
   "outputs": [],
   "source": [
    "A1 = \"Teja Swaroop\"\n",
    "A2 = \"M\"\n",
    "A3 = 9\n",
    "A4 = \"December\"\n",
    "A5 = 1995\n",
    "A6 = 9\n",
    "A7 = \"07(7 AM)\"\n",
    "A8 = 30\n",
    "A9 = \"India\"\n",
    "A10 =\"Cuddapah, Cuddapah, Andhra Pradesh\"\n",
    "A11 =\"thejaswaroop1996@gmail.com\""
   ]
  },
  {
   "cell_type": "code",
   "execution_count": 9,
   "id": "3e0ac63e",
   "metadata": {},
   "outputs": [],
   "source": [
    "Name = browser.find_element(By.ID,'name')"
   ]
  },
  {
   "cell_type": "code",
   "execution_count": 10,
   "id": "b7719bfb",
   "metadata": {},
   "outputs": [],
   "source": [
    "Name.send_keys(A1)"
   ]
  },
  {
   "cell_type": "code",
   "execution_count": 11,
   "id": "7c6178dd",
   "metadata": {},
   "outputs": [],
   "source": [
    "Sex = browser.find_element(By.ID,'sex')"
   ]
  },
  {
   "cell_type": "code",
   "execution_count": 12,
   "id": "fc6d59f7",
   "metadata": {},
   "outputs": [],
   "source": [
    "Sex.send_keys(A2)"
   ]
  },
  {
   "cell_type": "code",
   "execution_count": 13,
   "id": "44628bc6",
   "metadata": {},
   "outputs": [],
   "source": [
    "Day = browser.find_element(By.ID,'day')"
   ]
  },
  {
   "cell_type": "code",
   "execution_count": 14,
   "id": "4a68911a",
   "metadata": {},
   "outputs": [],
   "source": [
    "Day.send_keys(A3)"
   ]
  },
  {
   "cell_type": "code",
   "execution_count": 15,
   "id": "cf4faceb",
   "metadata": {},
   "outputs": [],
   "source": [
    "Month = browser.find_element(By.ID,'month')"
   ]
  },
  {
   "cell_type": "code",
   "execution_count": 16,
   "id": "cb4115d9",
   "metadata": {},
   "outputs": [],
   "source": [
    "Month.send_keys(A4)"
   ]
  },
  {
   "cell_type": "code",
   "execution_count": 17,
   "id": "fa784f77",
   "metadata": {},
   "outputs": [],
   "source": [
    "Year = browser.find_element(By.ID,'year')"
   ]
  },
  {
   "cell_type": "code",
   "execution_count": 18,
   "id": "2fbfe622",
   "metadata": {},
   "outputs": [],
   "source": [
    "Year.clear()"
   ]
  },
  {
   "cell_type": "code",
   "execution_count": 19,
   "id": "56aa4441",
   "metadata": {},
   "outputs": [],
   "source": [
    "Year.send_keys(A5)"
   ]
  },
  {
   "cell_type": "code",
   "execution_count": 20,
   "id": "dedee391",
   "metadata": {},
   "outputs": [],
   "source": [
    "Hour = browser.find_element(By.ID,'hour')"
   ]
  },
  {
   "cell_type": "code",
   "execution_count": 21,
   "id": "a1b57f18",
   "metadata": {},
   "outputs": [],
   "source": [
    "Hour.send_keys(A7)"
   ]
  },
  {
   "cell_type": "code",
   "execution_count": 22,
   "id": "6a8ea3a8",
   "metadata": {},
   "outputs": [],
   "source": [
    "Minute = browser.find_element(By.ID,'minute')"
   ]
  },
  {
   "cell_type": "code",
   "execution_count": 23,
   "id": "a7ca433e",
   "metadata": {},
   "outputs": [],
   "source": [
    "Minute.send_keys(A8)"
   ]
  },
  {
   "cell_type": "code",
   "execution_count": 24,
   "id": "a502adf0",
   "metadata": {},
   "outputs": [],
   "source": [
    "Country = browser.find_element(By.ID,'country')"
   ]
  },
  {
   "cell_type": "code",
   "execution_count": 25,
   "id": "96160110",
   "metadata": {},
   "outputs": [],
   "source": [
    "Country.send_keys(A9)"
   ]
  },
  {
   "cell_type": "code",
   "execution_count": 26,
   "id": "596b2de2",
   "metadata": {},
   "outputs": [],
   "source": [
    "City = browser.find_element(By.ID,'city')"
   ]
  },
  {
   "cell_type": "code",
   "execution_count": 27,
   "id": "070b6e65",
   "metadata": {},
   "outputs": [],
   "source": [
    "City.send_keys(A10)"
   ]
  },
  {
   "cell_type": "code",
   "execution_count": 28,
   "id": "93fe456d",
   "metadata": {},
   "outputs": [],
   "source": [
    "Sub = browser.find_element(By.XPATH,'//*[@id=\"form\"]/div/div/table/tbody/tr[15]/td/input[4]')"
   ]
  },
  {
   "cell_type": "code",
   "execution_count": 29,
   "id": "de4da6f4",
   "metadata": {},
   "outputs": [],
   "source": [
    "Sub.click()"
   ]
  },
  {
   "cell_type": "code",
   "execution_count": 30,
   "id": "c0605040",
   "metadata": {},
   "outputs": [],
   "source": [
    "Pd = browser.find_element(By.XPATH,'//*[@id=\"btn\"]')"
   ]
  },
  {
   "cell_type": "code",
   "execution_count": 31,
   "id": "0ec7e109",
   "metadata": {},
   "outputs": [],
   "source": [
    "Pd.click()"
   ]
  },
  {
   "cell_type": "code",
   "execution_count": 32,
   "id": "9368b21f",
   "metadata": {},
   "outputs": [],
   "source": [
    "Pdd = browser.find_element(By.XPATH,'/html/body/div[2]/div/div/div[1]/a[1]')"
   ]
  },
  {
   "cell_type": "code",
   "execution_count": 33,
   "id": "c404d143",
   "metadata": {},
   "outputs": [],
   "source": [
    "Pdd.click()"
   ]
  },
  {
   "cell_type": "code",
   "execution_count": 36,
   "id": "e5cdad36",
   "metadata": {},
   "outputs": [],
   "source": [
    "f  = browser.find_element(By.XPATH,'/html/body/div[2]/div/div/div[1]/a[1]')"
   ]
  },
  {
   "cell_type": "code",
   "execution_count": 37,
   "id": "1692a268",
   "metadata": {},
   "outputs": [],
   "source": [
    "f.click()"
   ]
  },
  {
   "cell_type": "code",
   "execution_count": null,
   "id": "6dfffff6",
   "metadata": {},
   "outputs": [],
   "source": []
  }
 ],
 "metadata": {
  "kernelspec": {
   "display_name": "Python 3 (ipykernel)",
   "language": "python",
   "name": "python3"
  },
  "language_info": {
   "codemirror_mode": {
    "name": "ipython",
    "version": 3
   },
   "file_extension": ".py",
   "mimetype": "text/x-python",
   "name": "python",
   "nbconvert_exporter": "python",
   "pygments_lexer": "ipython3",
   "version": "3.9.12"
  }
 },
 "nbformat": 4,
 "nbformat_minor": 5
}
